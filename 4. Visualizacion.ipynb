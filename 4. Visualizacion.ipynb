{
 "cells": [
  {
   "cell_type": "code",
   "execution_count": 1,
   "metadata": {},
   "outputs": [],
   "source": [
    "import numpy as np\n",
    "import pandas as pd\n",
    "import matplotlib.pyplot as plt\n",
    "import seaborn as sns\n",
    "\n",
    "import plotly.express as px\n",
    "\n",
    "\n",
    "import folium\n",
    "\n",
    "\n",
    "\n",
    "\n"
   ]
  },
  {
   "cell_type": "code",
   "execution_count": 2,
   "metadata": {},
   "outputs": [
    {
     "data": {
      "text/html": [
       "<div style=\"width:100%;\"><div style=\"position:relative;width:100%;height:0;padding-bottom:60%;\"><span style=\"color:#565656\">Make this Notebook Trusted to load map: File -> Trust Notebook</span><iframe srcdoc=\"&lt;!DOCTYPE html&gt;\n",
       "&lt;html&gt;\n",
       "&lt;head&gt;\n",
       "    \n",
       "    &lt;meta http-equiv=&quot;content-type&quot; content=&quot;text/html; charset=UTF-8&quot; /&gt;\n",
       "    \n",
       "        &lt;script&gt;\n",
       "            L_NO_TOUCH = false;\n",
       "            L_DISABLE_3D = false;\n",
       "        &lt;/script&gt;\n",
       "    \n",
       "    &lt;style&gt;html, body {width: 100%;height: 100%;margin: 0;padding: 0;}&lt;/style&gt;\n",
       "    &lt;style&gt;#map {position:absolute;top:0;bottom:0;right:0;left:0;}&lt;/style&gt;\n",
       "    &lt;script src=&quot;https://cdn.jsdelivr.net/npm/leaflet@1.9.3/dist/leaflet.js&quot;&gt;&lt;/script&gt;\n",
       "    &lt;script src=&quot;https://code.jquery.com/jquery-3.7.1.min.js&quot;&gt;&lt;/script&gt;\n",
       "    &lt;script src=&quot;https://cdn.jsdelivr.net/npm/bootstrap@5.2.2/dist/js/bootstrap.bundle.min.js&quot;&gt;&lt;/script&gt;\n",
       "    &lt;script src=&quot;https://cdnjs.cloudflare.com/ajax/libs/Leaflet.awesome-markers/2.0.2/leaflet.awesome-markers.js&quot;&gt;&lt;/script&gt;\n",
       "    &lt;link rel=&quot;stylesheet&quot; href=&quot;https://cdn.jsdelivr.net/npm/leaflet@1.9.3/dist/leaflet.css&quot;/&gt;\n",
       "    &lt;link rel=&quot;stylesheet&quot; href=&quot;https://cdn.jsdelivr.net/npm/bootstrap@5.2.2/dist/css/bootstrap.min.css&quot;/&gt;\n",
       "    &lt;link rel=&quot;stylesheet&quot; href=&quot;https://netdna.bootstrapcdn.com/bootstrap/3.0.0/css/bootstrap.min.css&quot;/&gt;\n",
       "    &lt;link rel=&quot;stylesheet&quot; href=&quot;https://cdn.jsdelivr.net/npm/@fortawesome/fontawesome-free@6.2.0/css/all.min.css&quot;/&gt;\n",
       "    &lt;link rel=&quot;stylesheet&quot; href=&quot;https://cdnjs.cloudflare.com/ajax/libs/Leaflet.awesome-markers/2.0.2/leaflet.awesome-markers.css&quot;/&gt;\n",
       "    &lt;link rel=&quot;stylesheet&quot; href=&quot;https://cdn.jsdelivr.net/gh/python-visualization/folium/folium/templates/leaflet.awesome.rotate.min.css&quot;/&gt;\n",
       "    \n",
       "            &lt;meta name=&quot;viewport&quot; content=&quot;width=device-width,\n",
       "                initial-scale=1.0, maximum-scale=1.0, user-scalable=no&quot; /&gt;\n",
       "            &lt;style&gt;\n",
       "                #map_2ea1a286944b4fc81eed553dac2f30ee {\n",
       "                    position: relative;\n",
       "                    width: 100.0%;\n",
       "                    height: 100.0%;\n",
       "                    left: 0.0%;\n",
       "                    top: 0.0%;\n",
       "                }\n",
       "                .leaflet-container { font-size: 1rem; }\n",
       "            &lt;/style&gt;\n",
       "        \n",
       "&lt;/head&gt;\n",
       "&lt;body&gt;\n",
       "    \n",
       "    \n",
       "            &lt;div class=&quot;folium-map&quot; id=&quot;map_2ea1a286944b4fc81eed553dac2f30ee&quot; &gt;&lt;/div&gt;\n",
       "        \n",
       "&lt;/body&gt;\n",
       "&lt;script&gt;\n",
       "    \n",
       "    \n",
       "            var map_2ea1a286944b4fc81eed553dac2f30ee = L.map(\n",
       "                &quot;map_2ea1a286944b4fc81eed553dac2f30ee&quot;,\n",
       "                {\n",
       "                    center: [35.147265, -8.463072],\n",
       "                    crs: L.CRS.EPSG3857,\n",
       "                    zoom: 5,\n",
       "                    zoomControl: true,\n",
       "                    preferCanvas: false,\n",
       "                }\n",
       "            );\n",
       "\n",
       "            \n",
       "\n",
       "        \n",
       "    \n",
       "            var tile_layer_67173e117c3579be61703c59b2b6381a = L.tileLayer(\n",
       "                &quot;https://{s}.basemaps.cartocdn.com/light_all/{z}/{x}/{y}{r}.png&quot;,\n",
       "                {&quot;attribution&quot;: &quot;\\u0026copy; \\u003ca href=\\&quot;https://www.openstreetmap.org/copyright\\&quot;\\u003eOpenStreetMap\\u003c/a\\u003e contributors \\u0026copy; \\u003ca href=\\&quot;https://carto.com/attributions\\&quot;\\u003eCARTO\\u003c/a\\u003e&quot;, &quot;detectRetina&quot;: false, &quot;maxNativeZoom&quot;: 20, &quot;maxZoom&quot;: 20, &quot;minZoom&quot;: 0, &quot;noWrap&quot;: false, &quot;opacity&quot;: 1, &quot;subdomains&quot;: &quot;abcd&quot;, &quot;tms&quot;: false}\n",
       "            );\n",
       "        \n",
       "    \n",
       "            tile_layer_67173e117c3579be61703c59b2b6381a.addTo(map_2ea1a286944b4fc81eed553dac2f30ee);\n",
       "        \n",
       "&lt;/script&gt;\n",
       "&lt;/html&gt;\" style=\"position:absolute;width:100%;height:100%;left:0;top:0;border:none !important;\" allowfullscreen webkitallowfullscreen mozallowfullscreen></iframe></div></div>"
      ],
      "text/plain": [
       "<folium.folium.Map at 0x16e925b45d0>"
      ]
     },
     "execution_count": 2,
     "metadata": {},
     "output_type": "execute_result"
    }
   ],
   "source": [
    "# creamos un mapa centrado en España\n",
    "world_map = folium.Map(location = [35.147265, -8.463072], zoom_start = 5, tiles = \"cartodb positron\")\n",
    "\n",
    "world_map"
   ]
  },
  {
   "cell_type": "code",
   "execution_count": 3,
   "metadata": {},
   "outputs": [
    {
     "ename": "SyntaxError",
     "evalue": "invalid decimal literal (3110534733.py, line 5)",
     "output_type": "error",
     "traceback": [
      "\u001b[1;36m  Cell \u001b[1;32mIn[3], line 5\u001b[1;36m\u001b[0m\n\u001b[1;33m    1º \"BARCELONA: BARCELONA AEROPUERTO\" [\"411734N\",\"020412E\"] = [\"41.292777\",\"2.070000\"]\u001b[0m\n\u001b[1;37m    ^\u001b[0m\n\u001b[1;31mSyntaxError\u001b[0m\u001b[1;31m:\u001b[0m invalid decimal literal\n"
     ]
    }
   ],
   "source": [
    "#Hemos seleccionado las siguientes estaciones meteorológicas de España con sus coordenadas [Latitud, Longitud] para la representacion en el mapa\n",
    "\n",
    "#Hay que pasar de coordenadas UTM a coordenadas decimales para la proyeccion en la visualizacion:\n",
    "\n",
    "1º \"BARCELONA: BARCELONA AEROPUERTO\" [\"411734N\",\"020412E\"] = [\"41.292777\",\"2.070000\"]\n",
    "2º \"SEVILLA: SEVILLA AEROPUERTO\" [\"372500N\",\"055245W\"] = [\"37.41666\",\"-5.8791666\"]\n",
    "3º \"VALENCIA:VALENCIA\" [\"392850N\",\"002159W\"] = [\"39.48055\",\"-0.366388\"]\n",
    "4º \"BIZKAIA: BILBAO AEROPUERTO\" [\"431753N\",\"025423W\"] = [\"43.298055\",\"-2.906388\"] \n",
    "5º \"MADRID: MADRID, RETIRO\" [\"402443N\",\"034041W\"] = [\"40.411944\",\"-3.678055\"]  \n",
    "6º \"OURENSE: OURENSE\" [\"421931N\",\"075135W\"] = [\"42.325277\",\"-7.859722\"]  \n",
    "7º \"STA. CRUZ DE TENERIFE: HIERRO AEROPUERTO\" [\"274908N\",\"175320W\"] = [\"27.81888\",\"-17.88888\"]\n",
    "8º \"SALAMANCA: SALAMANCA AEROPUERTO\" [\"405734N\",\"052954W\"] = [\"40.95944\",\"-5.498333\"]\n",
    "9º \"ILLES BALEARS: PALMA DE MALLORCA, AEROPUERTO\" [\"393339N\",\"024412E\"] = [\"39.560833\",\"2.736666\"]"
   ]
  },
  {
   "cell_type": "code",
   "execution_count": null,
   "metadata": {},
   "outputs": [
    {
     "data": {
      "text/html": [
       "<div style=\"width:100%;\"><div style=\"position:relative;width:100%;height:0;padding-bottom:60%;\"><span style=\"color:#565656\">Make this Notebook Trusted to load map: File -> Trust Notebook</span><iframe srcdoc=\"&lt;!DOCTYPE html&gt;\n",
       "&lt;html&gt;\n",
       "&lt;head&gt;\n",
       "    \n",
       "    &lt;meta http-equiv=&quot;content-type&quot; content=&quot;text/html; charset=UTF-8&quot; /&gt;\n",
       "    \n",
       "        &lt;script&gt;\n",
       "            L_NO_TOUCH = false;\n",
       "            L_DISABLE_3D = false;\n",
       "        &lt;/script&gt;\n",
       "    \n",
       "    &lt;style&gt;html, body {width: 100%;height: 100%;margin: 0;padding: 0;}&lt;/style&gt;\n",
       "    &lt;style&gt;#map {position:absolute;top:0;bottom:0;right:0;left:0;}&lt;/style&gt;\n",
       "    &lt;script src=&quot;https://cdn.jsdelivr.net/npm/leaflet@1.9.3/dist/leaflet.js&quot;&gt;&lt;/script&gt;\n",
       "    &lt;script src=&quot;https://code.jquery.com/jquery-3.7.1.min.js&quot;&gt;&lt;/script&gt;\n",
       "    &lt;script src=&quot;https://cdn.jsdelivr.net/npm/bootstrap@5.2.2/dist/js/bootstrap.bundle.min.js&quot;&gt;&lt;/script&gt;\n",
       "    &lt;script src=&quot;https://cdnjs.cloudflare.com/ajax/libs/Leaflet.awesome-markers/2.0.2/leaflet.awesome-markers.js&quot;&gt;&lt;/script&gt;\n",
       "    &lt;link rel=&quot;stylesheet&quot; href=&quot;https://cdn.jsdelivr.net/npm/leaflet@1.9.3/dist/leaflet.css&quot;/&gt;\n",
       "    &lt;link rel=&quot;stylesheet&quot; href=&quot;https://cdn.jsdelivr.net/npm/bootstrap@5.2.2/dist/css/bootstrap.min.css&quot;/&gt;\n",
       "    &lt;link rel=&quot;stylesheet&quot; href=&quot;https://netdna.bootstrapcdn.com/bootstrap/3.0.0/css/bootstrap.min.css&quot;/&gt;\n",
       "    &lt;link rel=&quot;stylesheet&quot; href=&quot;https://cdn.jsdelivr.net/npm/@fortawesome/fontawesome-free@6.2.0/css/all.min.css&quot;/&gt;\n",
       "    &lt;link rel=&quot;stylesheet&quot; href=&quot;https://cdnjs.cloudflare.com/ajax/libs/Leaflet.awesome-markers/2.0.2/leaflet.awesome-markers.css&quot;/&gt;\n",
       "    &lt;link rel=&quot;stylesheet&quot; href=&quot;https://cdn.jsdelivr.net/gh/python-visualization/folium/folium/templates/leaflet.awesome.rotate.min.css&quot;/&gt;\n",
       "    \n",
       "            &lt;meta name=&quot;viewport&quot; content=&quot;width=device-width,\n",
       "                initial-scale=1.0, maximum-scale=1.0, user-scalable=no&quot; /&gt;\n",
       "            &lt;style&gt;\n",
       "                #map_2423760dc96e9f258b7cd01025d6bc01 {\n",
       "                    position: relative;\n",
       "                    width: 100.0%;\n",
       "                    height: 100.0%;\n",
       "                    left: 0.0%;\n",
       "                    top: 0.0%;\n",
       "                }\n",
       "                .leaflet-container { font-size: 1rem; }\n",
       "            &lt;/style&gt;\n",
       "        \n",
       "&lt;/head&gt;\n",
       "&lt;body&gt;\n",
       "    \n",
       "    \n",
       "            &lt;div class=&quot;folium-map&quot; id=&quot;map_2423760dc96e9f258b7cd01025d6bc01&quot; &gt;&lt;/div&gt;\n",
       "        \n",
       "&lt;/body&gt;\n",
       "&lt;script&gt;\n",
       "    \n",
       "    \n",
       "            var map_2423760dc96e9f258b7cd01025d6bc01 = L.map(\n",
       "                &quot;map_2423760dc96e9f258b7cd01025d6bc01&quot;,\n",
       "                {\n",
       "                    center: [35.147265, -8.463072],\n",
       "                    crs: L.CRS.EPSG3857,\n",
       "                    zoom: 5,\n",
       "                    zoomControl: true,\n",
       "                    preferCanvas: false,\n",
       "                }\n",
       "            );\n",
       "\n",
       "            \n",
       "\n",
       "        \n",
       "    \n",
       "            var tile_layer_2fffd02699c177efeda96f421a8c45f4 = L.tileLayer(\n",
       "                &quot;https://{s}.basemaps.cartocdn.com/light_all/{z}/{x}/{y}{r}.png&quot;,\n",
       "                {&quot;attribution&quot;: &quot;\\u0026copy; \\u003ca href=\\&quot;https://www.openstreetmap.org/copyright\\&quot;\\u003eOpenStreetMap\\u003c/a\\u003e contributors \\u0026copy; \\u003ca href=\\&quot;https://carto.com/attributions\\&quot;\\u003eCARTO\\u003c/a\\u003e&quot;, &quot;detectRetina&quot;: false, &quot;maxNativeZoom&quot;: 20, &quot;maxZoom&quot;: 20, &quot;minZoom&quot;: 0, &quot;noWrap&quot;: false, &quot;opacity&quot;: 1, &quot;subdomains&quot;: &quot;abcd&quot;, &quot;tms&quot;: false}\n",
       "            );\n",
       "        \n",
       "    \n",
       "            tile_layer_2fffd02699c177efeda96f421a8c45f4.addTo(map_2423760dc96e9f258b7cd01025d6bc01);\n",
       "        \n",
       "    \n",
       "            tile_layer_2fffd02699c177efeda96f421a8c45f4.addTo(map_2423760dc96e9f258b7cd01025d6bc01);\n",
       "        \n",
       "    \n",
       "            var marker_5981d4f3f7f336e6b73ef41840c27ffa = L.marker(\n",
       "                [41.292777, 2.07],\n",
       "                {}\n",
       "            ).addTo(map_2423760dc96e9f258b7cd01025d6bc01);\n",
       "        \n",
       "    \n",
       "            var icon_b4370ff6b87064fd582a1769f222e619 = L.AwesomeMarkers.icon(\n",
       "                {&quot;extraClasses&quot;: &quot;fa-rotate-0&quot;, &quot;icon&quot;: &quot;cloud&quot;, &quot;iconColor&quot;: &quot;white&quot;, &quot;markerColor&quot;: &quot;red&quot;, &quot;prefix&quot;: &quot;glyphicon&quot;}\n",
       "            );\n",
       "            marker_5981d4f3f7f336e6b73ef41840c27ffa.setIcon(icon_b4370ff6b87064fd582a1769f222e619);\n",
       "        \n",
       "    \n",
       "        var popup_e910f6dc3ded5d50d70bf4d217126e54 = L.popup({&quot;maxWidth&quot;: &quot;100%&quot;});\n",
       "\n",
       "        \n",
       "            \n",
       "                var html_accabbdcf52de2fa488106926f16c7fc = $(`&lt;div id=&quot;html_accabbdcf52de2fa488106926f16c7fc&quot; style=&quot;width: 100.0%; height: 100.0%;&quot;&gt;BARCELONA AEROPUERTO&lt;/div&gt;`)[0];\n",
       "                popup_e910f6dc3ded5d50d70bf4d217126e54.setContent(html_accabbdcf52de2fa488106926f16c7fc);\n",
       "            \n",
       "        \n",
       "\n",
       "        marker_5981d4f3f7f336e6b73ef41840c27ffa.bindPopup(popup_e910f6dc3ded5d50d70bf4d217126e54)\n",
       "        ;\n",
       "\n",
       "        \n",
       "    \n",
       "    \n",
       "            marker_5981d4f3f7f336e6b73ef41840c27ffa.bindTooltip(\n",
       "                `&lt;div&gt;\n",
       "                     Click me!\n",
       "                 &lt;/div&gt;`,\n",
       "                {&quot;sticky&quot;: true}\n",
       "            );\n",
       "        \n",
       "    \n",
       "            var marker_f2361aeae8655f7225d5e9048d20e62d = L.marker(\n",
       "                [42.325277, -7.859722],\n",
       "                {}\n",
       "            ).addTo(map_2423760dc96e9f258b7cd01025d6bc01);\n",
       "        \n",
       "    \n",
       "            var icon_61e39af58de7b2cfd3e81fd4383ca580 = L.AwesomeMarkers.icon(\n",
       "                {&quot;extraClasses&quot;: &quot;fa-rotate-0&quot;, &quot;icon&quot;: &quot;cloud&quot;, &quot;iconColor&quot;: &quot;white&quot;, &quot;markerColor&quot;: &quot;red&quot;, &quot;prefix&quot;: &quot;glyphicon&quot;}\n",
       "            );\n",
       "            marker_f2361aeae8655f7225d5e9048d20e62d.setIcon(icon_61e39af58de7b2cfd3e81fd4383ca580);\n",
       "        \n",
       "    \n",
       "        var popup_a81c02304bf83b05acdec59ad01267e9 = L.popup({&quot;maxWidth&quot;: &quot;100%&quot;});\n",
       "\n",
       "        \n",
       "            \n",
       "                var html_ecadede9f6193b6f33ad29c642f5707f = $(`&lt;div id=&quot;html_ecadede9f6193b6f33ad29c642f5707f&quot; style=&quot;width: 100.0%; height: 100.0%;&quot;&gt;OURENSE&lt;/div&gt;`)[0];\n",
       "                popup_a81c02304bf83b05acdec59ad01267e9.setContent(html_ecadede9f6193b6f33ad29c642f5707f);\n",
       "            \n",
       "        \n",
       "\n",
       "        marker_f2361aeae8655f7225d5e9048d20e62d.bindPopup(popup_a81c02304bf83b05acdec59ad01267e9)\n",
       "        ;\n",
       "\n",
       "        \n",
       "    \n",
       "    \n",
       "            marker_f2361aeae8655f7225d5e9048d20e62d.bindTooltip(\n",
       "                `&lt;div&gt;\n",
       "                     Click me!\n",
       "                 &lt;/div&gt;`,\n",
       "                {&quot;sticky&quot;: true}\n",
       "            );\n",
       "        \n",
       "    \n",
       "            var marker_0ea97606b512d9369a34b0fa3599cbe7 = L.marker(\n",
       "                [39.48055, -0.366388],\n",
       "                {}\n",
       "            ).addTo(map_2423760dc96e9f258b7cd01025d6bc01);\n",
       "        \n",
       "    \n",
       "            var icon_66044953526d142d4c637077f552a6a3 = L.AwesomeMarkers.icon(\n",
       "                {&quot;extraClasses&quot;: &quot;fa-rotate-0&quot;, &quot;icon&quot;: &quot;cloud&quot;, &quot;iconColor&quot;: &quot;white&quot;, &quot;markerColor&quot;: &quot;red&quot;, &quot;prefix&quot;: &quot;glyphicon&quot;}\n",
       "            );\n",
       "            marker_0ea97606b512d9369a34b0fa3599cbe7.setIcon(icon_66044953526d142d4c637077f552a6a3);\n",
       "        \n",
       "    \n",
       "        var popup_c2d91f28ee288160b56c0d131548c57b = L.popup({&quot;maxWidth&quot;: &quot;100%&quot;});\n",
       "\n",
       "        \n",
       "            \n",
       "                var html_5647b97136ba9ac6d446da4f4d319257 = $(`&lt;div id=&quot;html_5647b97136ba9ac6d446da4f4d319257&quot; style=&quot;width: 100.0%; height: 100.0%;&quot;&gt;VALENCIA&lt;/div&gt;`)[0];\n",
       "                popup_c2d91f28ee288160b56c0d131548c57b.setContent(html_5647b97136ba9ac6d446da4f4d319257);\n",
       "            \n",
       "        \n",
       "\n",
       "        marker_0ea97606b512d9369a34b0fa3599cbe7.bindPopup(popup_c2d91f28ee288160b56c0d131548c57b)\n",
       "        ;\n",
       "\n",
       "        \n",
       "    \n",
       "    \n",
       "            marker_0ea97606b512d9369a34b0fa3599cbe7.bindTooltip(\n",
       "                `&lt;div&gt;\n",
       "                     Click me!\n",
       "                 &lt;/div&gt;`,\n",
       "                {&quot;sticky&quot;: true}\n",
       "            );\n",
       "        \n",
       "    \n",
       "            var marker_4159fda0c064ceb1755674cdc5eb05ed = L.marker(\n",
       "                [43.298055, -2.906388],\n",
       "                {}\n",
       "            ).addTo(map_2423760dc96e9f258b7cd01025d6bc01);\n",
       "        \n",
       "    \n",
       "            var icon_2ab938f4eb6b09296dd45ff09bbaed90 = L.AwesomeMarkers.icon(\n",
       "                {&quot;extraClasses&quot;: &quot;fa-rotate-0&quot;, &quot;icon&quot;: &quot;cloud&quot;, &quot;iconColor&quot;: &quot;white&quot;, &quot;markerColor&quot;: &quot;red&quot;, &quot;prefix&quot;: &quot;glyphicon&quot;}\n",
       "            );\n",
       "            marker_4159fda0c064ceb1755674cdc5eb05ed.setIcon(icon_2ab938f4eb6b09296dd45ff09bbaed90);\n",
       "        \n",
       "    \n",
       "        var popup_6afbb56fdc07c42b8eead4f340b239d7 = L.popup({&quot;maxWidth&quot;: &quot;100%&quot;});\n",
       "\n",
       "        \n",
       "            \n",
       "                var html_fbac8f1005235810d9fe5604dee2bd00 = $(`&lt;div id=&quot;html_fbac8f1005235810d9fe5604dee2bd00&quot; style=&quot;width: 100.0%; height: 100.0%;&quot;&gt;BILBAO AEROPUERTO&lt;/div&gt;`)[0];\n",
       "                popup_6afbb56fdc07c42b8eead4f340b239d7.setContent(html_fbac8f1005235810d9fe5604dee2bd00);\n",
       "            \n",
       "        \n",
       "\n",
       "        marker_4159fda0c064ceb1755674cdc5eb05ed.bindPopup(popup_6afbb56fdc07c42b8eead4f340b239d7)\n",
       "        ;\n",
       "\n",
       "        \n",
       "    \n",
       "    \n",
       "            marker_4159fda0c064ceb1755674cdc5eb05ed.bindTooltip(\n",
       "                `&lt;div&gt;\n",
       "                     Click me!\n",
       "                 &lt;/div&gt;`,\n",
       "                {&quot;sticky&quot;: true}\n",
       "            );\n",
       "        \n",
       "    \n",
       "            var marker_71873d8ba8907f55257dd291bad7c131 = L.marker(\n",
       "                [40.411944, -3.678055],\n",
       "                {}\n",
       "            ).addTo(map_2423760dc96e9f258b7cd01025d6bc01);\n",
       "        \n",
       "    \n",
       "            var icon_771469916e336f4eb388efe6ffbbe866 = L.AwesomeMarkers.icon(\n",
       "                {&quot;extraClasses&quot;: &quot;fa-rotate-0&quot;, &quot;icon&quot;: &quot;cloud&quot;, &quot;iconColor&quot;: &quot;white&quot;, &quot;markerColor&quot;: &quot;red&quot;, &quot;prefix&quot;: &quot;glyphicon&quot;}\n",
       "            );\n",
       "            marker_71873d8ba8907f55257dd291bad7c131.setIcon(icon_771469916e336f4eb388efe6ffbbe866);\n",
       "        \n",
       "    \n",
       "        var popup_c2de3ad4ab471b8de306495ee066d294 = L.popup({&quot;maxWidth&quot;: &quot;100%&quot;});\n",
       "\n",
       "        \n",
       "            \n",
       "                var html_af5697adc657d5d932b27ef337b3539e = $(`&lt;div id=&quot;html_af5697adc657d5d932b27ef337b3539e&quot; style=&quot;width: 100.0%; height: 100.0%;&quot;&gt;MADRID, RETIRO&lt;/div&gt;`)[0];\n",
       "                popup_c2de3ad4ab471b8de306495ee066d294.setContent(html_af5697adc657d5d932b27ef337b3539e);\n",
       "            \n",
       "        \n",
       "\n",
       "        marker_71873d8ba8907f55257dd291bad7c131.bindPopup(popup_c2de3ad4ab471b8de306495ee066d294)\n",
       "        ;\n",
       "\n",
       "        \n",
       "    \n",
       "    \n",
       "            marker_71873d8ba8907f55257dd291bad7c131.bindTooltip(\n",
       "                `&lt;div&gt;\n",
       "                     Click me!\n",
       "                 &lt;/div&gt;`,\n",
       "                {&quot;sticky&quot;: true}\n",
       "            );\n",
       "        \n",
       "    \n",
       "            var marker_5fe2caa649230f7347da733d81b9cae6 = L.marker(\n",
       "                [37.41666, -5.8791666],\n",
       "                {}\n",
       "            ).addTo(map_2423760dc96e9f258b7cd01025d6bc01);\n",
       "        \n",
       "    \n",
       "            var icon_a2f7c7a896e7660a927baa188fa64599 = L.AwesomeMarkers.icon(\n",
       "                {&quot;extraClasses&quot;: &quot;fa-rotate-0&quot;, &quot;icon&quot;: &quot;cloud&quot;, &quot;iconColor&quot;: &quot;white&quot;, &quot;markerColor&quot;: &quot;red&quot;, &quot;prefix&quot;: &quot;glyphicon&quot;}\n",
       "            );\n",
       "            marker_5fe2caa649230f7347da733d81b9cae6.setIcon(icon_a2f7c7a896e7660a927baa188fa64599);\n",
       "        \n",
       "    \n",
       "        var popup_41b5803edb710afb1885ac5093534b28 = L.popup({&quot;maxWidth&quot;: &quot;100%&quot;});\n",
       "\n",
       "        \n",
       "            \n",
       "                var html_0fb73e7d219727dde7e79f4cee1161d2 = $(`&lt;div id=&quot;html_0fb73e7d219727dde7e79f4cee1161d2&quot; style=&quot;width: 100.0%; height: 100.0%;&quot;&gt;SEVILLA AEROPUERTO&lt;/div&gt;`)[0];\n",
       "                popup_41b5803edb710afb1885ac5093534b28.setContent(html_0fb73e7d219727dde7e79f4cee1161d2);\n",
       "            \n",
       "        \n",
       "\n",
       "        marker_5fe2caa649230f7347da733d81b9cae6.bindPopup(popup_41b5803edb710afb1885ac5093534b28)\n",
       "        ;\n",
       "\n",
       "        \n",
       "    \n",
       "    \n",
       "            marker_5fe2caa649230f7347da733d81b9cae6.bindTooltip(\n",
       "                `&lt;div&gt;\n",
       "                     Click me!\n",
       "                 &lt;/div&gt;`,\n",
       "                {&quot;sticky&quot;: true}\n",
       "            );\n",
       "        \n",
       "    \n",
       "            var marker_06dae892b0d9e12e5c85a16124eb9bda = L.marker(\n",
       "                [40.95944, -5.498333],\n",
       "                {}\n",
       "            ).addTo(map_2423760dc96e9f258b7cd01025d6bc01);\n",
       "        \n",
       "    \n",
       "            var icon_c93ec7a1927eb4114017a92cbaa9daaf = L.AwesomeMarkers.icon(\n",
       "                {&quot;extraClasses&quot;: &quot;fa-rotate-0&quot;, &quot;icon&quot;: &quot;cloud&quot;, &quot;iconColor&quot;: &quot;white&quot;, &quot;markerColor&quot;: &quot;red&quot;, &quot;prefix&quot;: &quot;glyphicon&quot;}\n",
       "            );\n",
       "            marker_06dae892b0d9e12e5c85a16124eb9bda.setIcon(icon_c93ec7a1927eb4114017a92cbaa9daaf);\n",
       "        \n",
       "    \n",
       "        var popup_8115e4bcb6ee5ed16ca5712ca0583e74 = L.popup({&quot;maxWidth&quot;: &quot;100%&quot;});\n",
       "\n",
       "        \n",
       "            \n",
       "                var html_dd0a4976b95873498574c1414a390f32 = $(`&lt;div id=&quot;html_dd0a4976b95873498574c1414a390f32&quot; style=&quot;width: 100.0%; height: 100.0%;&quot;&gt;SALAMANCA AEROPUERTO&lt;/div&gt;`)[0];\n",
       "                popup_8115e4bcb6ee5ed16ca5712ca0583e74.setContent(html_dd0a4976b95873498574c1414a390f32);\n",
       "            \n",
       "        \n",
       "\n",
       "        marker_06dae892b0d9e12e5c85a16124eb9bda.bindPopup(popup_8115e4bcb6ee5ed16ca5712ca0583e74)\n",
       "        ;\n",
       "\n",
       "        \n",
       "    \n",
       "    \n",
       "            marker_06dae892b0d9e12e5c85a16124eb9bda.bindTooltip(\n",
       "                `&lt;div&gt;\n",
       "                     Click me!\n",
       "                 &lt;/div&gt;`,\n",
       "                {&quot;sticky&quot;: true}\n",
       "            );\n",
       "        \n",
       "    \n",
       "            var marker_af84f32ccb5c38a8f416cd98cb82d38d = L.marker(\n",
       "                [39.560833, 2.736666],\n",
       "                {}\n",
       "            ).addTo(map_2423760dc96e9f258b7cd01025d6bc01);\n",
       "        \n",
       "    \n",
       "            var icon_92b28514c733f00d4ae3bc1658a29cbe = L.AwesomeMarkers.icon(\n",
       "                {&quot;extraClasses&quot;: &quot;fa-rotate-0&quot;, &quot;icon&quot;: &quot;cloud&quot;, &quot;iconColor&quot;: &quot;white&quot;, &quot;markerColor&quot;: &quot;red&quot;, &quot;prefix&quot;: &quot;glyphicon&quot;}\n",
       "            );\n",
       "            marker_af84f32ccb5c38a8f416cd98cb82d38d.setIcon(icon_92b28514c733f00d4ae3bc1658a29cbe);\n",
       "        \n",
       "    \n",
       "        var popup_97397806c5acf9bc2e7ac6924b90a1ba = L.popup({&quot;maxWidth&quot;: &quot;100%&quot;});\n",
       "\n",
       "        \n",
       "            \n",
       "                var html_8c5dd7f6ffa21db48d0bdd490d22fa32 = $(`&lt;div id=&quot;html_8c5dd7f6ffa21db48d0bdd490d22fa32&quot; style=&quot;width: 100.0%; height: 100.0%;&quot;&gt;PALMA DE MALLORCA, AEROPUERTO&lt;/div&gt;`)[0];\n",
       "                popup_97397806c5acf9bc2e7ac6924b90a1ba.setContent(html_8c5dd7f6ffa21db48d0bdd490d22fa32);\n",
       "            \n",
       "        \n",
       "\n",
       "        marker_af84f32ccb5c38a8f416cd98cb82d38d.bindPopup(popup_97397806c5acf9bc2e7ac6924b90a1ba)\n",
       "        ;\n",
       "\n",
       "        \n",
       "    \n",
       "    \n",
       "            marker_af84f32ccb5c38a8f416cd98cb82d38d.bindTooltip(\n",
       "                `&lt;div&gt;\n",
       "                     Click me!\n",
       "                 &lt;/div&gt;`,\n",
       "                {&quot;sticky&quot;: true}\n",
       "            );\n",
       "        \n",
       "    \n",
       "            var marker_b8e5c8b8666b464cb92d374f4fe8c0c0 = L.marker(\n",
       "                [27.81888, -17.88888],\n",
       "                {}\n",
       "            ).addTo(map_2423760dc96e9f258b7cd01025d6bc01);\n",
       "        \n",
       "    \n",
       "            var icon_305f5b4563a3fbae1732c55fe3568bbd = L.AwesomeMarkers.icon(\n",
       "                {&quot;extraClasses&quot;: &quot;fa-rotate-0&quot;, &quot;icon&quot;: &quot;cloud&quot;, &quot;iconColor&quot;: &quot;white&quot;, &quot;markerColor&quot;: &quot;red&quot;, &quot;prefix&quot;: &quot;glyphicon&quot;}\n",
       "            );\n",
       "            marker_b8e5c8b8666b464cb92d374f4fe8c0c0.setIcon(icon_305f5b4563a3fbae1732c55fe3568bbd);\n",
       "        \n",
       "    \n",
       "        var popup_e94873dbfdc3d498a703e70e7ce3cafe = L.popup({&quot;maxWidth&quot;: &quot;100%&quot;});\n",
       "\n",
       "        \n",
       "            \n",
       "                var html_662c0cf0ffd59013a09262d8abb740a6 = $(`&lt;div id=&quot;html_662c0cf0ffd59013a09262d8abb740a6&quot; style=&quot;width: 100.0%; height: 100.0%;&quot;&gt;HIERRO AEROPUERTO&lt;/div&gt;`)[0];\n",
       "                popup_e94873dbfdc3d498a703e70e7ce3cafe.setContent(html_662c0cf0ffd59013a09262d8abb740a6);\n",
       "            \n",
       "        \n",
       "\n",
       "        marker_b8e5c8b8666b464cb92d374f4fe8c0c0.bindPopup(popup_e94873dbfdc3d498a703e70e7ce3cafe)\n",
       "        ;\n",
       "\n",
       "        \n",
       "    \n",
       "    \n",
       "            marker_b8e5c8b8666b464cb92d374f4fe8c0c0.bindTooltip(\n",
       "                `&lt;div&gt;\n",
       "                     Click me!\n",
       "                 &lt;/div&gt;`,\n",
       "                {&quot;sticky&quot;: true}\n",
       "            );\n",
       "        \n",
       "&lt;/script&gt;\n",
       "&lt;/html&gt;\" style=\"position:absolute;width:100%;height:100%;left:0;top:0;border:none !important;\" allowfullscreen webkitallowfullscreen mozallowfullscreen></iframe></div></div>"
      ],
      "text/plain": [
       "<folium.folium.Map at 0x28ecea23c90>"
      ]
     },
     "execution_count": 3,
     "metadata": {},
     "output_type": "execute_result"
    }
   ],
   "source": [
    "#Vamos a crear las localizaciones de cada estacion y añadirlas a nuestro World_Map y poder representarlas\n",
    "\n",
    "folium.Marker(\n",
    "    location=[\"41.292777\",\"2.070000\"],\n",
    "    tooltip=\"Click me!\",\n",
    "    popup=\"BARCELONA AEROPUERTO\",\n",
    "    icon=folium.Icon(icon=\"cloud\",color=\"red\"),\n",
    ").add_to(world_map)\n",
    "\n",
    "folium.Marker(\n",
    "    location=[\"42.325277\",\"-7.859722\"],\n",
    "    tooltip=\"Click me!\",\n",
    "    popup=\"OURENSE\",\n",
    "    icon=folium.Icon(icon=\"cloud\",color=\"red\"),\n",
    ").add_to(world_map)\n",
    "\n",
    "folium.Marker(\n",
    "    location=[\"39.48055\",\"-0.366388\"],\n",
    "    tooltip=\"Click me!\",\n",
    "    popup=\"VALENCIA\",\n",
    "    icon=folium.Icon(icon=\"cloud\",color=\"red\"),\n",
    ").add_to(world_map)\n",
    "\n",
    "folium.Marker(\n",
    "    location=[\"43.298055\",\"-2.906388\"],\n",
    "    tooltip=\"Click me!\",\n",
    "    popup=\"BILBAO AEROPUERTO\",\n",
    "    icon=folium.Icon(icon=\"cloud\",color=\"red\"),\n",
    ").add_to(world_map)\n",
    "\n",
    "folium.Marker(\n",
    "    location=[\"40.411944\",\"-3.678055\"],\n",
    "    tooltip=\"Click me!\",\n",
    "    popup=\"MADRID, RETIRO\",\n",
    "    icon=folium.Icon(icon=\"cloud\",color=\"red\"),\n",
    ").add_to(world_map)\n",
    "\n",
    "folium.Marker(\n",
    "    location=[\"37.41666\",\"-5.8791666\"],\n",
    "    tooltip=\"Click me!\",\n",
    "    popup=\"SEVILLA AEROPUERTO\",\n",
    "    icon=folium.Icon(icon=\"cloud\",color=\"red\"),\n",
    ").add_to(world_map)\n",
    "\n",
    "folium.Marker(\n",
    "    location=[\"40.95944\",\"-5.498333\"],\n",
    "    tooltip=\"Click me!\",\n",
    "    popup=\"SALAMANCA AEROPUERTO\",\n",
    "    icon=folium.Icon(icon=\"cloud\",color=\"red\"),\n",
    ").add_to(world_map)\n",
    "\n",
    "folium.Marker(\n",
    "    location=[\"39.560833\",\"2.736666\"],\n",
    "    tooltip=\"Click me!\",\n",
    "    popup=\"PALMA DE MALLORCA, AEROPUERTO\",\n",
    "    icon=folium.Icon(icon=\"cloud\",color=\"red\"),\n",
    ").add_to(world_map)\n",
    "\n",
    "folium.Marker(\n",
    "    location=[\"27.81888\",\"-17.88888\"],\n",
    "    tooltip=\"Click me!\",\n",
    "    popup=\"HIERRO AEROPUERTO\",\n",
    "    icon=folium.Icon(icon=\"cloud\",color=\"red\"),\n",
    ").add_to(world_map)\n",
    "\n",
    "world_map\n"
   ]
  },
  {
   "cell_type": "code",
   "execution_count": null,
   "metadata": {},
   "outputs": [
    {
     "data": {
      "text/html": [
       "<div>\n",
       "<style scoped>\n",
       "    .dataframe tbody tr th:only-of-type {\n",
       "        vertical-align: middle;\n",
       "    }\n",
       "\n",
       "    .dataframe tbody tr th {\n",
       "        vertical-align: top;\n",
       "    }\n",
       "\n",
       "    .dataframe thead th {\n",
       "        text-align: right;\n",
       "    }\n",
       "</style>\n",
       "<table border=\"1\" class=\"dataframe\">\n",
       "  <thead>\n",
       "    <tr style=\"text-align: right;\">\n",
       "      <th></th>\n",
       "      <th>Provincia</th>\n",
       "      <th>Nombre</th>\n",
       "      <th>Latitud</th>\n",
       "      <th>Longitud</th>\n",
       "      <th>Year</th>\n",
       "      <th>Tmed_min</th>\n",
       "      <th>Tmed_year</th>\n",
       "      <th>Tmed_max</th>\n",
       "      <th>Dias&lt;0º</th>\n",
       "      <th>Dias&gt;30º</th>\n",
       "      <th>Hum relativa</th>\n",
       "      <th>Precipitacion</th>\n",
       "      <th>Lluvia</th>\n",
       "    </tr>\n",
       "  </thead>\n",
       "  <tbody>\n",
       "    <tr>\n",
       "      <th>0</th>\n",
       "      <td>BARCELONA</td>\n",
       "      <td>BARCELONA AEROPUERTO</td>\n",
       "      <td>411734N</td>\n",
       "      <td>020412E</td>\n",
       "      <td>1979</td>\n",
       "      <td>10.64</td>\n",
       "      <td>15.33</td>\n",
       "      <td>20.03</td>\n",
       "      <td>3.0</td>\n",
       "      <td>5.0</td>\n",
       "      <td>71.75</td>\n",
       "      <td>755.7</td>\n",
       "      <td>47.0</td>\n",
       "    </tr>\n",
       "    <tr>\n",
       "      <th>1</th>\n",
       "      <td>BARCELONA</td>\n",
       "      <td>BARCELONA AEROPUERTO</td>\n",
       "      <td>411734N</td>\n",
       "      <td>020412E</td>\n",
       "      <td>1980</td>\n",
       "      <td>10.36</td>\n",
       "      <td>15.08</td>\n",
       "      <td>19.81</td>\n",
       "      <td>10.0</td>\n",
       "      <td>3.0</td>\n",
       "      <td>73.17</td>\n",
       "      <td>432.9</td>\n",
       "      <td>36.0</td>\n",
       "    </tr>\n",
       "    <tr>\n",
       "      <th>2</th>\n",
       "      <td>BARCELONA</td>\n",
       "      <td>BARCELONA AEROPUERTO</td>\n",
       "      <td>411734N</td>\n",
       "      <td>020412E</td>\n",
       "      <td>1981</td>\n",
       "      <td>10.88</td>\n",
       "      <td>15.58</td>\n",
       "      <td>20.29</td>\n",
       "      <td>6.0</td>\n",
       "      <td>7.0</td>\n",
       "      <td>71.75</td>\n",
       "      <td>428.5</td>\n",
       "      <td>15.0</td>\n",
       "    </tr>\n",
       "    <tr>\n",
       "      <th>3</th>\n",
       "      <td>BARCELONA</td>\n",
       "      <td>BARCELONA AEROPUERTO</td>\n",
       "      <td>411734N</td>\n",
       "      <td>020412E</td>\n",
       "      <td>1982</td>\n",
       "      <td>11.48</td>\n",
       "      <td>15.88</td>\n",
       "      <td>20.26</td>\n",
       "      <td>1.0</td>\n",
       "      <td>12.0</td>\n",
       "      <td>73.92</td>\n",
       "      <td>702.2</td>\n",
       "      <td>4.0</td>\n",
       "    </tr>\n",
       "    <tr>\n",
       "      <th>4</th>\n",
       "      <td>BARCELONA</td>\n",
       "      <td>BARCELONA AEROPUERTO</td>\n",
       "      <td>411734N</td>\n",
       "      <td>020412E</td>\n",
       "      <td>1983</td>\n",
       "      <td>11.07</td>\n",
       "      <td>15.74</td>\n",
       "      <td>20.41</td>\n",
       "      <td>6.0</td>\n",
       "      <td>18.0</td>\n",
       "      <td>71.92</td>\n",
       "      <td>757.3</td>\n",
       "      <td>0.0</td>\n",
       "    </tr>\n",
       "    <tr>\n",
       "      <th>...</th>\n",
       "      <td>...</td>\n",
       "      <td>...</td>\n",
       "      <td>...</td>\n",
       "      <td>...</td>\n",
       "      <td>...</td>\n",
       "      <td>...</td>\n",
       "      <td>...</td>\n",
       "      <td>...</td>\n",
       "      <td>...</td>\n",
       "      <td>...</td>\n",
       "      <td>...</td>\n",
       "      <td>...</td>\n",
       "      <td>...</td>\n",
       "    </tr>\n",
       "    <tr>\n",
       "      <th>400</th>\n",
       "      <td>VALENCIA</td>\n",
       "      <td>VALENCIA AEROPUERTO</td>\n",
       "      <td>392906N</td>\n",
       "      <td>002829W</td>\n",
       "      <td>2019</td>\n",
       "      <td>12.28</td>\n",
       "      <td>18.16</td>\n",
       "      <td>23.96</td>\n",
       "      <td>3.0</td>\n",
       "      <td>76.0</td>\n",
       "      <td>58.58</td>\n",
       "      <td>394.3</td>\n",
       "      <td>67.0</td>\n",
       "    </tr>\n",
       "    <tr>\n",
       "      <th>401</th>\n",
       "      <td>VALENCIA</td>\n",
       "      <td>VALENCIA AEROPUERTO</td>\n",
       "      <td>392906N</td>\n",
       "      <td>002829W</td>\n",
       "      <td>2020</td>\n",
       "      <td>12.72</td>\n",
       "      <td>18.38</td>\n",
       "      <td>24.03</td>\n",
       "      <td>4.0</td>\n",
       "      <td>85.0</td>\n",
       "      <td>63.50</td>\n",
       "      <td>544.2</td>\n",
       "      <td>87.0</td>\n",
       "    </tr>\n",
       "    <tr>\n",
       "      <th>402</th>\n",
       "      <td>VALENCIA</td>\n",
       "      <td>VALENCIA AEROPUERTO</td>\n",
       "      <td>392906N</td>\n",
       "      <td>002829W</td>\n",
       "      <td>2021</td>\n",
       "      <td>13.05</td>\n",
       "      <td>18.07</td>\n",
       "      <td>23.03</td>\n",
       "      <td>8.0</td>\n",
       "      <td>60.0</td>\n",
       "      <td>63.42</td>\n",
       "      <td>456.2</td>\n",
       "      <td>100.0</td>\n",
       "    </tr>\n",
       "    <tr>\n",
       "      <th>403</th>\n",
       "      <td>VALENCIA</td>\n",
       "      <td>VALENCIA AEROPUERTO</td>\n",
       "      <td>392906N</td>\n",
       "      <td>002829W</td>\n",
       "      <td>2022</td>\n",
       "      <td>13.68</td>\n",
       "      <td>19.18</td>\n",
       "      <td>24.62</td>\n",
       "      <td>6.0</td>\n",
       "      <td>103.0</td>\n",
       "      <td>61.50</td>\n",
       "      <td>741.9</td>\n",
       "      <td>98.0</td>\n",
       "    </tr>\n",
       "    <tr>\n",
       "      <th>404</th>\n",
       "      <td>VALENCIA</td>\n",
       "      <td>VALENCIA AEROPUERTO</td>\n",
       "      <td>392906N</td>\n",
       "      <td>002829W</td>\n",
       "      <td>2023</td>\n",
       "      <td>13.30</td>\n",
       "      <td>19.07</td>\n",
       "      <td>24.77</td>\n",
       "      <td>5.0</td>\n",
       "      <td>87.0</td>\n",
       "      <td>58.42</td>\n",
       "      <td>313.9</td>\n",
       "      <td>70.0</td>\n",
       "    </tr>\n",
       "  </tbody>\n",
       "</table>\n",
       "<p>405 rows × 13 columns</p>\n",
       "</div>"
      ],
      "text/plain": [
       "     Provincia                Nombre  Latitud Longitud  Year  Tmed_min  \\\n",
       "0    BARCELONA  BARCELONA AEROPUERTO  411734N  020412E  1979     10.64   \n",
       "1    BARCELONA  BARCELONA AEROPUERTO  411734N  020412E  1980     10.36   \n",
       "2    BARCELONA  BARCELONA AEROPUERTO  411734N  020412E  1981     10.88   \n",
       "3    BARCELONA  BARCELONA AEROPUERTO  411734N  020412E  1982     11.48   \n",
       "4    BARCELONA  BARCELONA AEROPUERTO  411734N  020412E  1983     11.07   \n",
       "..         ...                   ...      ...      ...   ...       ...   \n",
       "400   VALENCIA   VALENCIA AEROPUERTO  392906N  002829W  2019     12.28   \n",
       "401   VALENCIA   VALENCIA AEROPUERTO  392906N  002829W  2020     12.72   \n",
       "402   VALENCIA   VALENCIA AEROPUERTO  392906N  002829W  2021     13.05   \n",
       "403   VALENCIA   VALENCIA AEROPUERTO  392906N  002829W  2022     13.68   \n",
       "404   VALENCIA   VALENCIA AEROPUERTO  392906N  002829W  2023     13.30   \n",
       "\n",
       "     Tmed_year  Tmed_max  Dias<0º  Dias>30º  Hum relativa  Precipitacion  \\\n",
       "0        15.33     20.03      3.0       5.0         71.75          755.7   \n",
       "1        15.08     19.81     10.0       3.0         73.17          432.9   \n",
       "2        15.58     20.29      6.0       7.0         71.75          428.5   \n",
       "3        15.88     20.26      1.0      12.0         73.92          702.2   \n",
       "4        15.74     20.41      6.0      18.0         71.92          757.3   \n",
       "..         ...       ...      ...       ...           ...            ...   \n",
       "400      18.16     23.96      3.0      76.0         58.58          394.3   \n",
       "401      18.38     24.03      4.0      85.0         63.50          544.2   \n",
       "402      18.07     23.03      8.0      60.0         63.42          456.2   \n",
       "403      19.18     24.62      6.0     103.0         61.50          741.9   \n",
       "404      19.07     24.77      5.0      87.0         58.42          313.9   \n",
       "\n",
       "     Lluvia  \n",
       "0      47.0  \n",
       "1      36.0  \n",
       "2      15.0  \n",
       "3       4.0  \n",
       "4       0.0  \n",
       "..      ...  \n",
       "400    67.0  \n",
       "401    87.0  \n",
       "402   100.0  \n",
       "403    98.0  \n",
       "404    70.0  \n",
       "\n",
       "[405 rows x 13 columns]"
      ]
     },
     "execution_count": 4,
     "metadata": {},
     "output_type": "execute_result"
    }
   ],
   "source": [
    "df = pd.read_csv(\"C:/Users/mary_/Downloads/Pablo/Data Analyst/mod3/proyecto1/df1.csv\")\n",
    "df"
   ]
  },
  {
   "cell_type": "code",
   "execution_count": null,
   "metadata": {},
   "outputs": [
    {
     "data": {
      "application/vnd.plotly.v1+json": {
       "config": {
        "plotlyServerURL": "https://plot.ly"
       },
       "data": [
        {
         "hovertemplate": "Provincia=BARCELONA<br>Año=%{x}<br>T.Media Anual (ºC)=%{y}<extra></extra>",
         "legendgroup": "BARCELONA",
         "line": {
          "color": "#636efa",
          "dash": "solid"
         },
         "marker": {
          "symbol": "circle"
         },
         "mode": "lines",
         "name": "BARCELONA",
         "orientation": "v",
         "showlegend": true,
         "type": "scatter",
         "x": [
          1979,
          1980,
          1981,
          1982,
          1983,
          1984,
          1985,
          1986,
          1987,
          1988,
          1989,
          1990,
          1991,
          1992,
          1993,
          1994,
          1995,
          1996,
          1997,
          1998,
          1999,
          2000,
          2001,
          2002,
          2003,
          2004,
          2005,
          2006,
          2007,
          2008,
          2009,
          2010,
          2011,
          2012,
          2013,
          2014,
          2015,
          2016,
          2017,
          2018,
          2019,
          2020,
          2021,
          2022,
          2023
         ],
         "xaxis": "x",
         "y": [
          15.33,
          15.08,
          15.58,
          15.88,
          15.74,
          14.75,
          15.11,
          15.37,
          15.6,
          15.67,
          16.37,
          16.67,
          14.92,
          14.76,
          14.81,
          16.78,
          16.6,
          16.15,
          17.03,
          16.79,
          16.71,
          16.05,
          15.3,
          15.68,
          17.44,
          17.17,
          16.46,
          17.39,
          16.9,
          16.46,
          16.73,
          15.81,
          17.22,
          17.02,
          16.92,
          17.74,
          17.48,
          17.46,
          17.57,
          17.75,
          17.47,
          17.58,
          17.32,
          18.92,
          18.39
         ],
         "yaxis": "y"
        },
        {
         "hovertemplate": "Provincia=BIZKAIA<br>Año=%{x}<br>T.Media Anual (ºC)=%{y}<extra></extra>",
         "legendgroup": "BIZKAIA",
         "line": {
          "color": "#EF553B",
          "dash": "solid"
         },
         "marker": {
          "symbol": "circle"
         },
         "mode": "lines",
         "name": "BIZKAIA",
         "orientation": "v",
         "showlegend": true,
         "type": "scatter",
         "x": [
          1979,
          1980,
          1981,
          1982,
          1983,
          1984,
          1985,
          1986,
          1987,
          1988,
          1989,
          1990,
          1991,
          1992,
          1993,
          1994,
          1995,
          1996,
          1997,
          1998,
          1999,
          2000,
          2001,
          2002,
          2003,
          2004,
          2005,
          2006,
          2007,
          2008,
          2009,
          2010,
          2011,
          2012,
          2013,
          2014,
          2015,
          2016,
          2017,
          2018,
          2019,
          2020,
          2021,
          2022,
          2023
         ],
         "xaxis": "x",
         "y": [
          13.85,
          13.68,
          14.19,
          14.64,
          14.85,
          13.76,
          14.62,
          14.4,
          14.97,
          15,
          15.45,
          14.99,
          13.94,
          13.99,
          13.93,
          14.88,
          15.05,
          14.2,
          15.52,
          14.7,
          14.57,
          15.13,
          14.61,
          14.68,
          15.8,
          14.82,
          14.78,
          15.63,
          14.58,
          14.78,
          15.08,
          14.55,
          16.21,
          14.39,
          14.46,
          16.09,
          15.22,
          14.94,
          15.26,
          15.23,
          15.15,
          15.85,
          14.97,
          16.32,
          16.27
         ],
         "yaxis": "y"
        },
        {
         "hovertemplate": "Provincia=ILLES BALEARS<br>Año=%{x}<br>T.Media Anual (ºC)=%{y}<extra></extra>",
         "legendgroup": "ILLES BALEARS",
         "line": {
          "color": "#00cc96",
          "dash": "solid"
         },
         "marker": {
          "symbol": "circle"
         },
         "mode": "lines",
         "name": "ILLES BALEARS",
         "orientation": "v",
         "showlegend": true,
         "type": "scatter",
         "x": [
          1979,
          1980,
          1981,
          1982,
          1983,
          1984,
          1985,
          1986,
          1987,
          1988,
          1989,
          1990,
          1991,
          1992,
          1993,
          1994,
          1995,
          1996,
          1997,
          1998,
          1999,
          2000,
          2001,
          2002,
          2003,
          2004,
          2005,
          2006,
          2007,
          2008,
          2009,
          2010,
          2011,
          2012,
          2013,
          2014,
          2015,
          2016,
          2017,
          2018,
          2019,
          2020,
          2021,
          2022,
          2023
         ],
         "xaxis": "x",
         "y": [
          15.73,
          15.28,
          15.93,
          16.45,
          16.17,
          15.15,
          15.91,
          16.03,
          16.53,
          16.58,
          17.08,
          16.68,
          15.82,
          16.03,
          15.78,
          16.81,
          16.83,
          16.18,
          17.19,
          16.82,
          16.75,
          16.7,
          16.96,
          16.91,
          17.5,
          16.82,
          16.28,
          17.73,
          16.97,
          16.66,
          17.01,
          16.28,
          17.48,
          16.99,
          17,
          17.92,
          17.41,
          17.62,
          17.47,
          17.44,
          17.41,
          17.75,
          17.49,
          18.43,
          18.02
         ],
         "yaxis": "y"
        },
        {
         "hovertemplate": "Provincia=MADRID<br>Año=%{x}<br>T.Media Anual (ºC)=%{y}<extra></extra>",
         "legendgroup": "MADRID",
         "line": {
          "color": "#ab63fa",
          "dash": "solid"
         },
         "marker": {
          "symbol": "circle"
         },
         "mode": "lines",
         "name": "MADRID",
         "orientation": "v",
         "showlegend": true,
         "type": "scatter",
         "x": [
          1979,
          1980,
          1981,
          1982,
          1983,
          1984,
          1985,
          1986,
          1987,
          1988,
          1989,
          1990,
          1991,
          1992,
          1993,
          1994,
          1995,
          1996,
          1997,
          1998,
          1999,
          2000,
          2001,
          2002,
          2003,
          2004,
          2005,
          2006,
          2007,
          2008,
          2009,
          2010,
          2011,
          2012,
          2013,
          2014,
          2015,
          2016,
          2017,
          2018,
          2019,
          2020,
          2021,
          2022,
          2023
         ],
         "xaxis": "x",
         "y": [
          14.33,
          14.19,
          14.88,
          14.73,
          14.9,
          13.62,
          14.93,
          14.48,
          15.16,
          14.72,
          15.82,
          15.39,
          14.8,
          14.78,
          14.04,
          15.48,
          15.84,
          14.73,
          15.64,
          15.12,
          14.87,
          15.01,
          15.05,
          15.16,
          15.74,
          15.11,
          15.3,
          15.88,
          14.64,
          14.85,
          15.95,
          14.71,
          16.04,
          15.51,
          15.02,
          16.07,
          16.58,
          16.03,
          16.72,
          15.56,
          16.12,
          16.01,
          15.58,
          17.5,
          16.53
         ],
         "yaxis": "y"
        },
        {
         "hovertemplate": "Provincia=OURENSE<br>Año=%{x}<br>T.Media Anual (ºC)=%{y}<extra></extra>",
         "legendgroup": "OURENSE",
         "line": {
          "color": "#FFA15A",
          "dash": "solid"
         },
         "marker": {
          "symbol": "circle"
         },
         "mode": "lines",
         "name": "OURENSE",
         "orientation": "v",
         "showlegend": true,
         "type": "scatter",
         "x": [
          1979,
          1980,
          1981,
          1982,
          1983,
          1984,
          1985,
          1986,
          1987,
          1988,
          1989,
          1990,
          1991,
          1992,
          1993,
          1994,
          1995,
          1996,
          1997,
          1998,
          1999,
          2000,
          2001,
          2002,
          2003,
          2004,
          2005,
          2006,
          2007,
          2008,
          2009,
          2010,
          2011,
          2012,
          2013,
          2014,
          2015,
          2016,
          2017,
          2018,
          2019,
          2020,
          2021,
          2022,
          2023
         ],
         "xaxis": "x",
         "y": [
          14.57,
          14.07,
          14.68,
          15.59,
          14.12,
          13.91,
          14.22,
          13.89,
          14.8,
          14.34,
          15.52,
          15.25,
          14.43,
          14.16,
          13.9,
          14.87,
          15.58,
          14.81,
          15.9,
          15.22,
          14.72,
          14.87,
          14.89,
          15.28,
          15.62,
          15.1,
          15.13,
          15.89,
          14.88,
          14.91,
          15.44,
          15.26,
          15.88,
          14.88,
          15.1,
          15.69,
          15.9,
          15.63,
          15.96,
          15.66,
          15.17,
          16.12,
          15.52,
          16.48,
          16.62
         ],
         "yaxis": "y"
        },
        {
         "hovertemplate": "Provincia=SALAMANCA<br>Año=%{x}<br>T.Media Anual (ºC)=%{y}<extra></extra>",
         "legendgroup": "SALAMANCA",
         "line": {
          "color": "#19d3f3",
          "dash": "solid"
         },
         "marker": {
          "symbol": "circle"
         },
         "mode": "lines",
         "name": "SALAMANCA",
         "orientation": "v",
         "showlegend": true,
         "type": "scatter",
         "x": [
          1979,
          1980,
          1981,
          1982,
          1983,
          1984,
          1985,
          1986,
          1987,
          1988,
          1989,
          1990,
          1991,
          1992,
          1993,
          1994,
          1995,
          1996,
          1997,
          1998,
          1999,
          2000,
          2001,
          2002,
          2003,
          2004,
          2005,
          2006,
          2007,
          2008,
          2009,
          2010,
          2011,
          2012,
          2013,
          2014,
          2015,
          2016,
          2017,
          2018,
          2019,
          2020,
          2021,
          2022,
          2023
         ],
         "xaxis": "x",
         "y": [
          11.38,
          11.11,
          11.79,
          11.86,
          11.58,
          11.22,
          12.01,
          11.76,
          12.52,
          11.86,
          13.2,
          12.82,
          12.08,
          12,
          11.08,
          12.5,
          13.28,
          12.15,
          13,
          12.19,
          11.76,
          11.87,
          12.08,
          12.48,
          12.74,
          11.94,
          11.94,
          12.8,
          11.81,
          11.62,
          12.77,
          12.19,
          13.02,
          12.06,
          11.92,
          12.65,
          12.68,
          12.61,
          12.97,
          12.38,
          12.53,
          13.18,
          12.42,
          13.7,
          13.05
         ],
         "yaxis": "y"
        },
        {
         "hovertemplate": "Provincia=SEVILLA<br>Año=%{x}<br>T.Media Anual (ºC)=%{y}<extra></extra>",
         "legendgroup": "SEVILLA",
         "line": {
          "color": "#FF6692",
          "dash": "solid"
         },
         "marker": {
          "symbol": "circle"
         },
         "mode": "lines",
         "name": "SEVILLA",
         "orientation": "v",
         "showlegend": true,
         "type": "scatter",
         "x": [
          1979,
          1980,
          1981,
          1982,
          1983,
          1984,
          1985,
          1986,
          1987,
          1988,
          1989,
          1990,
          1991,
          1992,
          1993,
          1994,
          1995,
          1996,
          1997,
          1998,
          1999,
          2000,
          2001,
          2002,
          2003,
          2004,
          2005,
          2006,
          2007,
          2008,
          2009,
          2010,
          2011,
          2012,
          2013,
          2014,
          2015,
          2016,
          2017,
          2018,
          2019,
          2020,
          2021,
          2022,
          2023
         ],
         "xaxis": "x",
         "y": [
          18.09,
          18.15,
          18.7,
          18.3,
          18.64,
          17.78,
          18.62,
          18.04,
          18.72,
          18.57,
          19.58,
          19.35,
          18.72,
          18.46,
          18.23,
          19.57,
          20.31,
          19.02,
          19.92,
          19.45,
          19.32,
          19.54,
          19.64,
          20.03,
          19.82,
          19.56,
          19.48,
          20.12,
          19.48,
          19.58,
          20.35,
          19.88,
          20.33,
          19.17,
          19.03,
          19.54,
          20.03,
          19.78,
          20.24,
          18.8,
          19.44,
          19.89,
          19.55,
          20.13,
          20.81
         ],
         "yaxis": "y"
        },
        {
         "hovertemplate": "Provincia=STA. CRUZ DE TENERIFE<br>Año=%{x}<br>T.Media Anual (ºC)=%{y}<extra></extra>",
         "legendgroup": "STA. CRUZ DE TENERIFE",
         "line": {
          "color": "#B6E880",
          "dash": "solid"
         },
         "marker": {
          "symbol": "circle"
         },
         "mode": "lines",
         "name": "STA. CRUZ DE TENERIFE",
         "orientation": "v",
         "showlegend": true,
         "type": "scatter",
         "x": [
          1979,
          1980,
          1981,
          1982,
          1983,
          1984,
          1985,
          1986,
          1987,
          1988,
          1989,
          1990,
          1991,
          1992,
          1993,
          1994,
          1995,
          1996,
          1997,
          1998,
          1999,
          2000,
          2001,
          2002,
          2003,
          2004,
          2005,
          2006,
          2007,
          2008,
          2009,
          2010,
          2011,
          2012,
          2013,
          2014,
          2015,
          2016,
          2017,
          2018,
          2019,
          2020,
          2021,
          2022,
          2023
         ],
         "xaxis": "x",
         "y": [
          18.81,
          19.2,
          19.19,
          20.13,
          20.48,
          20.32,
          20.72,
          20.33,
          21.64,
          20.94,
          21.37,
          21.45,
          20.82,
          20.98,
          20.52,
          20.9,
          21.58,
          21.02,
          21.78,
          21.21,
          20.82,
          20.68,
          21.57,
          21.17,
          22.03,
          21.88,
          21.44,
          21.83,
          21.36,
          21.37,
          21.71,
          22.03,
          21.42,
          21.72,
          21.62,
          21.57,
          21.73,
          21.82,
          21.98,
          21.09,
          21.4,
          21.85,
          21.52,
          21.68,
          22.72
         ],
         "yaxis": "y"
        },
        {
         "hovertemplate": "Provincia=VALENCIA<br>Año=%{x}<br>T.Media Anual (ºC)=%{y}<extra></extra>",
         "legendgroup": "VALENCIA",
         "line": {
          "color": "#FF97FF",
          "dash": "solid"
         },
         "marker": {
          "symbol": "circle"
         },
         "mode": "lines",
         "name": "VALENCIA",
         "orientation": "v",
         "showlegend": true,
         "type": "scatter",
         "x": [
          1979,
          1980,
          1981,
          1982,
          1983,
          1984,
          1985,
          1986,
          1987,
          1988,
          1989,
          1990,
          1991,
          1992,
          1993,
          1994,
          1995,
          1996,
          1997,
          1998,
          1999,
          2000,
          2001,
          2002,
          2003,
          2004,
          2005,
          2006,
          2007,
          2008,
          2009,
          2010,
          2011,
          2012,
          2013,
          2014,
          2015,
          2016,
          2017,
          2018,
          2019,
          2020,
          2021,
          2022,
          2023
         ],
         "xaxis": "x",
         "y": [
          17.18,
          16.66,
          17.14,
          17.45,
          17.54,
          16.59,
          17.21,
          17.34,
          17.78,
          17.56,
          17.75,
          17.62,
          16.85,
          17.21,
          16.99,
          18.32,
          18.29,
          17.65,
          18.39,
          17.98,
          18.17,
          18.3,
          18.56,
          18.13,
          18.38,
          17.97,
          17.1,
          17.94,
          17.28,
          17.11,
          17.19,
          16.29,
          16.68,
          18.42,
          18.66,
          18.85,
          18,
          17.93,
          17.78,
          17.97,
          18.16,
          18.38,
          18.07,
          19.18,
          19.07
         ],
         "yaxis": "y"
        }
       ],
       "layout": {
        "legend": {
         "title": {
          "text": "Provincia"
         },
         "tracegroupgap": 0
        },
        "template": {
         "data": {
          "bar": [
           {
            "error_x": {
             "color": "#2a3f5f"
            },
            "error_y": {
             "color": "#2a3f5f"
            },
            "marker": {
             "line": {
              "color": "#E5ECF6",
              "width": 0.5
             },
             "pattern": {
              "fillmode": "overlay",
              "size": 10,
              "solidity": 0.2
             }
            },
            "type": "bar"
           }
          ],
          "barpolar": [
           {
            "marker": {
             "line": {
              "color": "#E5ECF6",
              "width": 0.5
             },
             "pattern": {
              "fillmode": "overlay",
              "size": 10,
              "solidity": 0.2
             }
            },
            "type": "barpolar"
           }
          ],
          "carpet": [
           {
            "aaxis": {
             "endlinecolor": "#2a3f5f",
             "gridcolor": "white",
             "linecolor": "white",
             "minorgridcolor": "white",
             "startlinecolor": "#2a3f5f"
            },
            "baxis": {
             "endlinecolor": "#2a3f5f",
             "gridcolor": "white",
             "linecolor": "white",
             "minorgridcolor": "white",
             "startlinecolor": "#2a3f5f"
            },
            "type": "carpet"
           }
          ],
          "choropleth": [
           {
            "colorbar": {
             "outlinewidth": 0,
             "ticks": ""
            },
            "type": "choropleth"
           }
          ],
          "contour": [
           {
            "colorbar": {
             "outlinewidth": 0,
             "ticks": ""
            },
            "colorscale": [
             [
              0,
              "#0d0887"
             ],
             [
              0.1111111111111111,
              "#46039f"
             ],
             [
              0.2222222222222222,
              "#7201a8"
             ],
             [
              0.3333333333333333,
              "#9c179e"
             ],
             [
              0.4444444444444444,
              "#bd3786"
             ],
             [
              0.5555555555555556,
              "#d8576b"
             ],
             [
              0.6666666666666666,
              "#ed7953"
             ],
             [
              0.7777777777777778,
              "#fb9f3a"
             ],
             [
              0.8888888888888888,
              "#fdca26"
             ],
             [
              1,
              "#f0f921"
             ]
            ],
            "type": "contour"
           }
          ],
          "contourcarpet": [
           {
            "colorbar": {
             "outlinewidth": 0,
             "ticks": ""
            },
            "type": "contourcarpet"
           }
          ],
          "heatmap": [
           {
            "colorbar": {
             "outlinewidth": 0,
             "ticks": ""
            },
            "colorscale": [
             [
              0,
              "#0d0887"
             ],
             [
              0.1111111111111111,
              "#46039f"
             ],
             [
              0.2222222222222222,
              "#7201a8"
             ],
             [
              0.3333333333333333,
              "#9c179e"
             ],
             [
              0.4444444444444444,
              "#bd3786"
             ],
             [
              0.5555555555555556,
              "#d8576b"
             ],
             [
              0.6666666666666666,
              "#ed7953"
             ],
             [
              0.7777777777777778,
              "#fb9f3a"
             ],
             [
              0.8888888888888888,
              "#fdca26"
             ],
             [
              1,
              "#f0f921"
             ]
            ],
            "type": "heatmap"
           }
          ],
          "heatmapgl": [
           {
            "colorbar": {
             "outlinewidth": 0,
             "ticks": ""
            },
            "colorscale": [
             [
              0,
              "#0d0887"
             ],
             [
              0.1111111111111111,
              "#46039f"
             ],
             [
              0.2222222222222222,
              "#7201a8"
             ],
             [
              0.3333333333333333,
              "#9c179e"
             ],
             [
              0.4444444444444444,
              "#bd3786"
             ],
             [
              0.5555555555555556,
              "#d8576b"
             ],
             [
              0.6666666666666666,
              "#ed7953"
             ],
             [
              0.7777777777777778,
              "#fb9f3a"
             ],
             [
              0.8888888888888888,
              "#fdca26"
             ],
             [
              1,
              "#f0f921"
             ]
            ],
            "type": "heatmapgl"
           }
          ],
          "histogram": [
           {
            "marker": {
             "pattern": {
              "fillmode": "overlay",
              "size": 10,
              "solidity": 0.2
             }
            },
            "type": "histogram"
           }
          ],
          "histogram2d": [
           {
            "colorbar": {
             "outlinewidth": 0,
             "ticks": ""
            },
            "colorscale": [
             [
              0,
              "#0d0887"
             ],
             [
              0.1111111111111111,
              "#46039f"
             ],
             [
              0.2222222222222222,
              "#7201a8"
             ],
             [
              0.3333333333333333,
              "#9c179e"
             ],
             [
              0.4444444444444444,
              "#bd3786"
             ],
             [
              0.5555555555555556,
              "#d8576b"
             ],
             [
              0.6666666666666666,
              "#ed7953"
             ],
             [
              0.7777777777777778,
              "#fb9f3a"
             ],
             [
              0.8888888888888888,
              "#fdca26"
             ],
             [
              1,
              "#f0f921"
             ]
            ],
            "type": "histogram2d"
           }
          ],
          "histogram2dcontour": [
           {
            "colorbar": {
             "outlinewidth": 0,
             "ticks": ""
            },
            "colorscale": [
             [
              0,
              "#0d0887"
             ],
             [
              0.1111111111111111,
              "#46039f"
             ],
             [
              0.2222222222222222,
              "#7201a8"
             ],
             [
              0.3333333333333333,
              "#9c179e"
             ],
             [
              0.4444444444444444,
              "#bd3786"
             ],
             [
              0.5555555555555556,
              "#d8576b"
             ],
             [
              0.6666666666666666,
              "#ed7953"
             ],
             [
              0.7777777777777778,
              "#fb9f3a"
             ],
             [
              0.8888888888888888,
              "#fdca26"
             ],
             [
              1,
              "#f0f921"
             ]
            ],
            "type": "histogram2dcontour"
           }
          ],
          "mesh3d": [
           {
            "colorbar": {
             "outlinewidth": 0,
             "ticks": ""
            },
            "type": "mesh3d"
           }
          ],
          "parcoords": [
           {
            "line": {
             "colorbar": {
              "outlinewidth": 0,
              "ticks": ""
             }
            },
            "type": "parcoords"
           }
          ],
          "pie": [
           {
            "automargin": true,
            "type": "pie"
           }
          ],
          "scatter": [
           {
            "fillpattern": {
             "fillmode": "overlay",
             "size": 10,
             "solidity": 0.2
            },
            "type": "scatter"
           }
          ],
          "scatter3d": [
           {
            "line": {
             "colorbar": {
              "outlinewidth": 0,
              "ticks": ""
             }
            },
            "marker": {
             "colorbar": {
              "outlinewidth": 0,
              "ticks": ""
             }
            },
            "type": "scatter3d"
           }
          ],
          "scattercarpet": [
           {
            "marker": {
             "colorbar": {
              "outlinewidth": 0,
              "ticks": ""
             }
            },
            "type": "scattercarpet"
           }
          ],
          "scattergeo": [
           {
            "marker": {
             "colorbar": {
              "outlinewidth": 0,
              "ticks": ""
             }
            },
            "type": "scattergeo"
           }
          ],
          "scattergl": [
           {
            "marker": {
             "colorbar": {
              "outlinewidth": 0,
              "ticks": ""
             }
            },
            "type": "scattergl"
           }
          ],
          "scattermapbox": [
           {
            "marker": {
             "colorbar": {
              "outlinewidth": 0,
              "ticks": ""
             }
            },
            "type": "scattermapbox"
           }
          ],
          "scatterpolar": [
           {
            "marker": {
             "colorbar": {
              "outlinewidth": 0,
              "ticks": ""
             }
            },
            "type": "scatterpolar"
           }
          ],
          "scatterpolargl": [
           {
            "marker": {
             "colorbar": {
              "outlinewidth": 0,
              "ticks": ""
             }
            },
            "type": "scatterpolargl"
           }
          ],
          "scatterternary": [
           {
            "marker": {
             "colorbar": {
              "outlinewidth": 0,
              "ticks": ""
             }
            },
            "type": "scatterternary"
           }
          ],
          "surface": [
           {
            "colorbar": {
             "outlinewidth": 0,
             "ticks": ""
            },
            "colorscale": [
             [
              0,
              "#0d0887"
             ],
             [
              0.1111111111111111,
              "#46039f"
             ],
             [
              0.2222222222222222,
              "#7201a8"
             ],
             [
              0.3333333333333333,
              "#9c179e"
             ],
             [
              0.4444444444444444,
              "#bd3786"
             ],
             [
              0.5555555555555556,
              "#d8576b"
             ],
             [
              0.6666666666666666,
              "#ed7953"
             ],
             [
              0.7777777777777778,
              "#fb9f3a"
             ],
             [
              0.8888888888888888,
              "#fdca26"
             ],
             [
              1,
              "#f0f921"
             ]
            ],
            "type": "surface"
           }
          ],
          "table": [
           {
            "cells": {
             "fill": {
              "color": "#EBF0F8"
             },
             "line": {
              "color": "white"
             }
            },
            "header": {
             "fill": {
              "color": "#C8D4E3"
             },
             "line": {
              "color": "white"
             }
            },
            "type": "table"
           }
          ]
         },
         "layout": {
          "annotationdefaults": {
           "arrowcolor": "#2a3f5f",
           "arrowhead": 0,
           "arrowwidth": 1
          },
          "autotypenumbers": "strict",
          "coloraxis": {
           "colorbar": {
            "outlinewidth": 0,
            "ticks": ""
           }
          },
          "colorscale": {
           "diverging": [
            [
             0,
             "#8e0152"
            ],
            [
             0.1,
             "#c51b7d"
            ],
            [
             0.2,
             "#de77ae"
            ],
            [
             0.3,
             "#f1b6da"
            ],
            [
             0.4,
             "#fde0ef"
            ],
            [
             0.5,
             "#f7f7f7"
            ],
            [
             0.6,
             "#e6f5d0"
            ],
            [
             0.7,
             "#b8e186"
            ],
            [
             0.8,
             "#7fbc41"
            ],
            [
             0.9,
             "#4d9221"
            ],
            [
             1,
             "#276419"
            ]
           ],
           "sequential": [
            [
             0,
             "#0d0887"
            ],
            [
             0.1111111111111111,
             "#46039f"
            ],
            [
             0.2222222222222222,
             "#7201a8"
            ],
            [
             0.3333333333333333,
             "#9c179e"
            ],
            [
             0.4444444444444444,
             "#bd3786"
            ],
            [
             0.5555555555555556,
             "#d8576b"
            ],
            [
             0.6666666666666666,
             "#ed7953"
            ],
            [
             0.7777777777777778,
             "#fb9f3a"
            ],
            [
             0.8888888888888888,
             "#fdca26"
            ],
            [
             1,
             "#f0f921"
            ]
           ],
           "sequentialminus": [
            [
             0,
             "#0d0887"
            ],
            [
             0.1111111111111111,
             "#46039f"
            ],
            [
             0.2222222222222222,
             "#7201a8"
            ],
            [
             0.3333333333333333,
             "#9c179e"
            ],
            [
             0.4444444444444444,
             "#bd3786"
            ],
            [
             0.5555555555555556,
             "#d8576b"
            ],
            [
             0.6666666666666666,
             "#ed7953"
            ],
            [
             0.7777777777777778,
             "#fb9f3a"
            ],
            [
             0.8888888888888888,
             "#fdca26"
            ],
            [
             1,
             "#f0f921"
            ]
           ]
          },
          "colorway": [
           "#636efa",
           "#EF553B",
           "#00cc96",
           "#ab63fa",
           "#FFA15A",
           "#19d3f3",
           "#FF6692",
           "#B6E880",
           "#FF97FF",
           "#FECB52"
          ],
          "font": {
           "color": "#2a3f5f"
          },
          "geo": {
           "bgcolor": "white",
           "lakecolor": "white",
           "landcolor": "#E5ECF6",
           "showlakes": true,
           "showland": true,
           "subunitcolor": "white"
          },
          "hoverlabel": {
           "align": "left"
          },
          "hovermode": "closest",
          "mapbox": {
           "style": "light"
          },
          "paper_bgcolor": "white",
          "plot_bgcolor": "#E5ECF6",
          "polar": {
           "angularaxis": {
            "gridcolor": "white",
            "linecolor": "white",
            "ticks": ""
           },
           "bgcolor": "#E5ECF6",
           "radialaxis": {
            "gridcolor": "white",
            "linecolor": "white",
            "ticks": ""
           }
          },
          "scene": {
           "xaxis": {
            "backgroundcolor": "#E5ECF6",
            "gridcolor": "white",
            "gridwidth": 2,
            "linecolor": "white",
            "showbackground": true,
            "ticks": "",
            "zerolinecolor": "white"
           },
           "yaxis": {
            "backgroundcolor": "#E5ECF6",
            "gridcolor": "white",
            "gridwidth": 2,
            "linecolor": "white",
            "showbackground": true,
            "ticks": "",
            "zerolinecolor": "white"
           },
           "zaxis": {
            "backgroundcolor": "#E5ECF6",
            "gridcolor": "white",
            "gridwidth": 2,
            "linecolor": "white",
            "showbackground": true,
            "ticks": "",
            "zerolinecolor": "white"
           }
          },
          "shapedefaults": {
           "line": {
            "color": "#2a3f5f"
           }
          },
          "ternary": {
           "aaxis": {
            "gridcolor": "white",
            "linecolor": "white",
            "ticks": ""
           },
           "baxis": {
            "gridcolor": "white",
            "linecolor": "white",
            "ticks": ""
           },
           "bgcolor": "#E5ECF6",
           "caxis": {
            "gridcolor": "white",
            "linecolor": "white",
            "ticks": ""
           }
          },
          "title": {
           "x": 0.05
          },
          "xaxis": {
           "automargin": true,
           "gridcolor": "white",
           "linecolor": "white",
           "ticks": "",
           "title": {
            "standoff": 15
           },
           "zerolinecolor": "white",
           "zerolinewidth": 2
          },
          "yaxis": {
           "automargin": true,
           "gridcolor": "white",
           "linecolor": "white",
           "ticks": "",
           "title": {
            "standoff": 15
           },
           "zerolinecolor": "white",
           "zerolinewidth": 2
          }
         }
        },
        "title": {
         "text": "Histórico Temp Media Anual (1979-2023)"
        },
        "xaxis": {
         "anchor": "y",
         "domain": [
          0,
          1
         ],
         "title": {
          "text": "Año"
         }
        },
        "yaxis": {
         "anchor": "x",
         "domain": [
          0,
          1
         ],
         "title": {
          "text": "T.Media Anual (ºC)"
         }
        }
       }
      }
     },
     "metadata": {},
     "output_type": "display_data"
    }
   ],
   "source": [
    "#Evolucion historica de temperatura media anual en las 9 estaciones meteorológicas estudiadas entre 1979 y 2023 \n",
    "px.line(data_frame = df,\n",
    "        title = \"Histórico Temp Media Anual (1979-2023)\",\n",
    "        x = \"Year\",\n",
    "        y = \"Tmed_year\",\n",
    "        labels = {\"Year\": \"Año\", \"Tmed_year\":\"T.Media Anual (ºC)\"},\n",
    "        color= \"Provincia\" )"
   ]
  },
  {
   "cell_type": "code",
   "execution_count": null,
   "metadata": {},
   "outputs": [
    {
     "data": {
      "application/vnd.plotly.v1+json": {
       "config": {
        "plotlyServerURL": "https://plot.ly"
       },
       "data": [
        {
         "alignmentgroup": "True",
         "customdata": [
          [
           47,
           71.75
          ],
          [
           36,
           73.17
          ],
          [
           15,
           71.75
          ],
          [
           4,
           73.92
          ],
          [
           0,
           71.92
          ],
          [
           11,
           72.83
          ],
          [
           52,
           72.92
          ],
          [
           92,
           73.5
          ],
          [
           100,
           74.33
          ],
          [
           88,
           72.75
          ],
          [
           102,
           74.08
          ],
          [
           84,
           71
          ],
          [
           99,
           72.5
          ],
          [
           104,
           null
          ],
          [
           97,
           71.33
          ],
          [
           78,
           70.42
          ],
          [
           113,
           70.25
          ],
          [
           133,
           71.92
          ],
          [
           85,
           72.33
          ],
          [
           81,
           68.58
          ],
          [
           83,
           67.92
          ],
          [
           91,
           71.08
          ],
          [
           74,
           68.42
          ],
          [
           96,
           71.08
          ],
          [
           88,
           69.33
          ],
          [
           92,
           68.92
          ],
          [
           97,
           64.58
          ],
          [
           82,
           64.5
          ],
          [
           83,
           60.75
          ],
          [
           107,
           63
          ],
          [
           72,
           62.17
          ],
          [
           78,
           62.22
          ],
          [
           89,
           63.27
          ],
          [
           84,
           61.88
          ],
          [
           93,
           67.25
          ],
          [
           77,
           72.09
          ],
          [
           70,
           67.75
          ],
          [
           79,
           67.83
          ],
          [
           81,
           66.17
          ],
          [
           110,
           68.08
          ],
          [
           80,
           67.83
          ],
          [
           86,
           70.58
          ],
          [
           82,
           68.75
          ],
          [
           76,
           67.55
          ],
          [
           53,
           66.91
          ]
         ],
         "hovertemplate": "Provincia=BARCELONA<br>Año=%{x}<br>Precipitación Total Anual(mm)=%{y}<br>Lluvia=%{customdata[0]}<br>Hum relativa=%{customdata[1]}<extra></extra>",
         "legendgroup": "BARCELONA",
         "marker": {
          "color": "#636efa",
          "pattern": {
           "shape": ""
          }
         },
         "name": "BARCELONA",
         "offsetgroup": "BARCELONA",
         "orientation": "v",
         "showlegend": true,
         "textposition": "auto",
         "type": "bar",
         "x": [
          1979,
          1980,
          1981,
          1982,
          1983,
          1984,
          1985,
          1986,
          1987,
          1988,
          1989,
          1990,
          1991,
          1992,
          1993,
          1994,
          1995,
          1996,
          1997,
          1998,
          1999,
          2000,
          2001,
          2002,
          2003,
          2004,
          2005,
          2006,
          2007,
          2008,
          2009,
          2010,
          2011,
          2012,
          2013,
          2014,
          2015,
          2016,
          2017,
          2018,
          2019,
          2020,
          2021,
          2022,
          2023
         ],
         "xaxis": "x",
         "y": [
          755.7,
          432.9,
          428.5,
          702.2,
          757.3,
          699.2,
          511.7,
          571.2,
          984.8,
          426,
          573.2,
          684.2,
          628,
          534.6999999999999,
          695.8,
          561.4,
          536.1,
          1025.5,
          456.8,
          501.7,
          385.2,
          404.6,
          474.9,
          773.3,
          651.5999999999999,
          507.5,
          581,
          361.6,
          534.6,
          509.5,
          354.2,
          428.4,
          700.2,
          446.2,
          590.4,
          419.4,
          323.9,
          406.9,
          353.70000000000005,
          753.4,
          672.8,
          1012.5,
          334,
          331.8,
          274.5
         ],
         "yaxis": "y"
        },
        {
         "alignmentgroup": "True",
         "customdata": [
          [
           209,
           72.83
          ],
          [
           180,
           71.42
          ],
          [
           187,
           71.25
          ],
          [
           187,
           70.67
          ],
          [
           169,
           69.75
          ],
          [
           202,
           71.08
          ],
          [
           180,
           67.78
          ],
          [
           198,
           69.92
          ],
          [
           185,
           70.83
          ],
          [
           199,
           72.18
          ],
          [
           141,
           70.83
          ],
          [
           174,
           69.83
          ],
          [
           180,
           70.33
          ],
          [
           172,
           71.92
          ],
          [
           175,
           71.08
          ],
          [
           196,
           71.17
          ],
          [
           187,
           71.75
          ],
          [
           207,
           74.25
          ],
          [
           177,
           73.5
          ],
          [
           186,
           75.17
          ],
          [
           178,
           74.92
          ],
          [
           151,
           78.2
          ],
          [
           150,
           69.36
          ],
          [
           196,
           68.33
          ],
          [
           193,
           67.17
          ],
          [
           196,
           68.67
          ],
          [
           171,
           66.58
          ],
          [
           165,
           67.17
          ],
          [
           182,
           69.75
          ],
          [
           198,
           69.33
          ],
          [
           177,
           68.83
          ],
          [
           176,
           66.25
          ],
          [
           185,
           66.33
          ],
          [
           196,
           69.75
          ],
          [
           195,
           73.83
          ],
          [
           193,
           71.5
          ],
          [
           174,
           72.83
          ],
          [
           181,
           72.58
          ],
          [
           184,
           74.33
          ],
          [
           191,
           74.42
          ],
          [
           184,
           72.08
          ],
          [
           201,
           72.33
          ],
          [
           182,
           73.5
          ],
          [
           164,
           70.5
          ],
          [
           190,
           71.17
          ]
         ],
         "hovertemplate": "Provincia=BIZKAIA<br>Año=%{x}<br>Precipitación Total Anual(mm)=%{y}<br>Lluvia=%{customdata[0]}<br>Hum relativa=%{customdata[1]}<extra></extra>",
         "legendgroup": "BIZKAIA",
         "marker": {
          "color": "#EF553B",
          "pattern": {
           "shape": ""
          }
         },
         "name": "BIZKAIA",
         "offsetgroup": "BIZKAIA",
         "orientation": "v",
         "showlegend": true,
         "textposition": "auto",
         "type": "bar",
         "x": [
          1979,
          1980,
          1981,
          1982,
          1983,
          1984,
          1985,
          1986,
          1987,
          1988,
          1989,
          1990,
          1991,
          1992,
          1993,
          1994,
          1995,
          1996,
          1997,
          1998,
          1999,
          2000,
          2001,
          2002,
          2003,
          2004,
          2005,
          2006,
          2007,
          2008,
          2009,
          2010,
          2011,
          2012,
          2013,
          2014,
          2015,
          2016,
          2017,
          2018,
          2019,
          2020,
          2021,
          2022,
          2023
         ],
         "xaxis": "x",
         "y": [
          1571.1,
          1226.7,
          969.4,
          1188.8,
          1315.3,
          1385.6,
          1045.6,
          1226.1,
          981.8,
          1068,
          824,
          1024.8,
          1073.4,
          1349.6,
          1066.5,
          1258.1,
          1033,
          1289.3,
          1023.1,
          1212.3,
          1000.4,
          803.4,
          668.3,
          1033.4,
          1138.1,
          1069.3,
          1215.4,
          959.4,
          1089,
          1428.4,
          1170.2,
          1300.8,
          904.1,
          1031,
          1647.5,
          1071.3,
          1163.6,
          1240.1,
          1313.5,
          1323.2,
          1266.6,
          1114.1,
          1282.5,
          849.8,
          1241.9
         ],
         "yaxis": "y"
        },
        {
         "alignmentgroup": "True",
         "customdata": [
          [
           80,
           73.92
          ],
          [
           81,
           74.83
          ],
          [
           46,
           73.08
          ],
          [
           83,
           74.08
          ],
          [
           64,
           71.92
          ],
          [
           99,
           71.25
          ],
          [
           93,
           73.25
          ],
          [
           102,
           75.08
          ],
          [
           104,
           75.17
          ],
          [
           94,
           73
          ],
          [
           93,
           74
          ],
          [
           92,
           76.33
          ],
          [
           93,
           72.08
          ],
          [
           91,
           74.75
          ],
          [
           97,
           73.08
          ],
          [
           75,
           73.42
          ],
          [
           99,
           70.42
          ],
          [
           129,
           70.33
          ],
          [
           94,
           69.58
          ],
          [
           97,
           69.08
          ],
          [
           96,
           69.33
          ],
          [
           88,
           69.17
          ],
          [
           78,
           73.08
          ],
          [
           107,
           73.83
          ],
          [
           114,
           73.25
          ],
          [
           108,
           72.83
          ],
          [
           92,
           69.5
          ],
          [
           90,
           70.82
          ],
          [
           86,
           70.5
          ],
          [
           109,
           70.17
          ],
          [
           111,
           69.83
          ],
          [
           113,
           70.42
          ],
          [
           83,
           72.42
          ],
          [
           101,
           67.33
          ],
          [
           108,
           64.4
          ],
          [
           89,
           68
          ],
          [
           76,
           67.75
          ],
          [
           88,
           67
          ],
          [
           90,
           67
          ],
          [
           105,
           69.83
          ],
          [
           66,
           66.08
          ],
          [
           79,
           68.08
          ],
          [
           101,
           68.92
          ],
          [
           84,
           68.45
          ],
          [
           81,
           69.92
          ]
         ],
         "hovertemplate": "Provincia=ILLES BALEARS<br>Año=%{x}<br>Precipitación Total Anual(mm)=%{y}<br>Lluvia=%{customdata[0]}<br>Hum relativa=%{customdata[1]}<extra></extra>",
         "legendgroup": "ILLES BALEARS",
         "marker": {
          "color": "#00cc96",
          "pattern": {
           "shape": ""
          }
         },
         "name": "ILLES BALEARS",
         "offsetgroup": "ILLES BALEARS",
         "orientation": "v",
         "showlegend": true,
         "textposition": "auto",
         "type": "bar",
         "x": [
          1979,
          1980,
          1981,
          1982,
          1983,
          1984,
          1985,
          1986,
          1987,
          1988,
          1989,
          1990,
          1991,
          1992,
          1993,
          1994,
          1995,
          1996,
          1997,
          1998,
          1999,
          2000,
          2001,
          2002,
          2003,
          2004,
          2005,
          2006,
          2007,
          2008,
          2009,
          2010,
          2011,
          2012,
          2013,
          2014,
          2015,
          2016,
          2017,
          2018,
          2019,
          2020,
          2021,
          2022,
          2023
         ],
         "xaxis": "x",
         "y": [
          486.4,
          401.6,
          378.3,
          313.8,
          245.8,
          410.9,
          362.6,
          499.7,
          511.8,
          339.4,
          345.7,
          442.3,
          503.3,
          342.7,
          365.8,
          495.6,
          265.3,
          535.9,
          398.5,
          409.8,
          227.3,
          255.9,
          352.3,
          557.8000000000001,
          437.4,
          406.9,
          298.20000000000005,
          499.8,
          518.3,
          502.1,
          557.3,
          559.6,
          480.9,
          377.9,
          422,
          365.3,
          388.7,
          496.9,
          476.7,
          451.2,
          397.2,
          390.1,
          426.4,
          249.9,
          329.4
         ],
         "yaxis": "y"
        },
        {
         "alignmentgroup": "True",
         "customdata": [
          [
           114,
           58.25
          ],
          [
           89,
           54.75
          ],
          [
           77,
           52.08
          ],
          [
           73,
           54.83
          ],
          [
           65,
           51.33
          ],
          [
           97,
           54.5
          ],
          [
           83,
           51.08
          ],
          [
           86,
           54
          ],
          [
           110,
           55.5
          ],
          [
           102,
           56.25
          ],
          [
           104,
           54.5
          ],
          [
           80,
           54
          ],
          [
           81,
           51.17
          ],
          [
           81,
           53.36
          ],
          [
           92,
           59.73
          ],
          [
           82,
           60.83
          ],
          [
           93,
           58.25
          ],
          [
           105,
           60.58
          ],
          [
           121,
           62.83
          ],
          [
           84,
           61.25
          ],
          [
           83,
           60.25
          ],
          [
           97,
           59.17
          ],
          [
           92,
           60
          ],
          [
           113,
           61
          ],
          [
           92,
           58.92
          ],
          [
           86,
           59.83
          ],
          [
           59,
           53.42
          ],
          [
           88,
           58.17
          ],
          [
           84,
           57.9
          ],
          [
           94,
           62
          ],
          [
           79,
           38
          ],
          [
           106,
           43
          ],
          [
           86,
           null
          ],
          [
           75,
           null
          ],
          [
           91,
           40
          ],
          [
           96,
           43
          ],
          [
           63,
           54.86
          ],
          [
           98,
           59.5
          ],
          [
           55,
           53.17
          ],
          [
           109,
           59.33
          ],
          [
           74,
           49.75
          ],
          [
           98,
           57
          ],
          [
           80,
           56.08
          ],
          [
           80,
           54.5
          ],
          [
           45,
           53.75
          ]
         ],
         "hovertemplate": "Provincia=MADRID<br>Año=%{x}<br>Precipitación Total Anual(mm)=%{y}<br>Lluvia=%{customdata[0]}<br>Hum relativa=%{customdata[1]}<extra></extra>",
         "legendgroup": "MADRID",
         "marker": {
          "color": "#ab63fa",
          "pattern": {
           "shape": ""
          }
         },
         "name": "MADRID",
         "offsetgroup": "MADRID",
         "orientation": "v",
         "showlegend": true,
         "textposition": "auto",
         "type": "bar",
         "x": [
          1979,
          1980,
          1981,
          1982,
          1983,
          1984,
          1985,
          1986,
          1987,
          1988,
          1989,
          1990,
          1991,
          1992,
          1993,
          1994,
          1995,
          1996,
          1997,
          1998,
          1999,
          2000,
          2001,
          2002,
          2003,
          2004,
          2005,
          2006,
          2007,
          2008,
          2009,
          2010,
          2011,
          2012,
          2013,
          2014,
          2015,
          2016,
          2017,
          2018,
          2019,
          2020,
          2021,
          2022,
          2023
         ],
         "xaxis": "x",
         "y": [
          498.5,
          367.5,
          425.1,
          369.9,
          260.1,
          494.3,
          338.8,
          387.5,
          544.9,
          413.9,
          560.7,
          304.3,
          342.8,
          350.1,
          469.7,
          293.2,
          332.3,
          513.9,
          573.4,
          394.6,
          382,
          489.4,
          364.3,
          502,
          518.5,
          484.8,
          251.7,
          500.9,
          406.4,
          463.3,
          335.4,
          557.3,
          380.4,
          331.7,
          373,
          417.3,
          278.40000000000003,
          486,
          256.1,
          589.2,
          391.5,
          474.4,
          623.4,
          367.4,
          162.6
         ],
         "yaxis": "y"
        },
        {
         "alignmentgroup": "True",
         "customdata": [
          [
           128,
           null
          ],
          [
           114,
           50
          ],
          [
           106,
           null
          ],
          [
           58,
           null
          ],
          [
           153,
           79.38
          ],
          [
           173,
           73.91
          ],
          [
           125,
           71
          ],
          [
           156,
           71
          ],
          [
           148,
           70.42
          ],
          [
           147,
           70.58
          ],
          [
           150,
           68.75
          ],
          [
           140,
           67.67
          ],
          [
           158,
           69.25
          ],
          [
           136,
           69.42
          ],
          [
           184,
           71.25
          ],
          [
           161,
           71.25
          ],
          [
           147,
           69.83
          ],
          [
           157,
           70.33
          ],
          [
           168,
           71.08
          ],
          [
           145,
           70.5
          ],
          [
           158,
           71.08
          ],
          [
           175,
           71
          ],
          [
           150,
           70.42
          ],
          [
           163,
           69.75
          ],
          [
           163,
           69
          ],
          [
           147,
           68.42
          ],
          [
           122,
           65.75
          ],
          [
           157,
           69
          ],
          [
           144,
           68.42
          ],
          [
           168,
           71.17
          ],
          [
           150,
           68
          ],
          [
           168,
           68.33
          ],
          [
           128,
           68
          ],
          [
           157,
           67.73
          ],
          [
           171,
           68.75
          ],
          [
           188,
           71.58
          ],
          [
           151,
           68.5
          ],
          [
           168,
           70.18
          ],
          [
           145,
           67.92
          ],
          [
           184,
           70.82
          ],
          [
           168,
           66.55
          ],
          [
           0,
           67.83
          ],
          [
           35,
           68
          ],
          [
           41,
           64.11
          ],
          [
           60,
           68.25
          ]
         ],
         "hovertemplate": "Provincia=OURENSE<br>Año=%{x}<br>Precipitación Total Anual(mm)=%{y}<br>Lluvia=%{customdata[0]}<br>Hum relativa=%{customdata[1]}<extra></extra>",
         "legendgroup": "OURENSE",
         "marker": {
          "color": "#FFA15A",
          "pattern": {
           "shape": ""
          }
         },
         "name": "OURENSE",
         "offsetgroup": "OURENSE",
         "orientation": "v",
         "showlegend": true,
         "textposition": "auto",
         "type": "bar",
         "x": [
          1979,
          1980,
          1981,
          1982,
          1983,
          1984,
          1985,
          1986,
          1987,
          1988,
          1989,
          1990,
          1991,
          1992,
          1993,
          1994,
          1995,
          1996,
          1997,
          1998,
          1999,
          2000,
          2001,
          2002,
          2003,
          2004,
          2005,
          2006,
          2007,
          2008,
          2009,
          2010,
          2011,
          2012,
          2013,
          2014,
          2015,
          2016,
          2017,
          2018,
          2019,
          2020,
          2021,
          2022,
          2023
         ],
         "xaxis": "x",
         "y": [
          1108.8,
          652.5,
          738.8,
          303.1,
          799.9,
          876.8,
          813.5,
          770.9000000000001,
          921.8,
          773,
          786.9,
          542.9,
          660.6,
          619,
          804.0999999999999,
          810.4,
          1017.3,
          868.3,
          1019.6,
          674.4,
          929.4,
          1038,
          977.7,
          937.5,
          871.9,
          572.8,
          536,
          896.9,
          501.2,
          770.1,
          990.5,
          995.1,
          770,
          629.9,
          977.3,
          997,
          495.6,
          934.2,
          615.8,
          1043,
          921.2,
          708,
          840.4,
          473.6,
          595
         ],
         "yaxis": "y"
        },
        {
         "alignmentgroup": "True",
         "customdata": [
          [
           135,
           71.42
          ],
          [
           109,
           70.5
          ],
          [
           59,
           65.67
          ],
          [
           97,
           65.67
          ],
          [
           106,
           67.17
          ],
          [
           126,
           68
          ],
          [
           104,
           63.83
          ],
          [
           101,
           66.5
          ],
          [
           125,
           67.92
          ],
          [
           133,
           70.33
          ],
          [
           116,
           67.08
          ],
          [
           109,
           67.58
          ],
          [
           105,
           64.58
          ],
          [
           97,
           62.67
          ],
          [
           118,
           66.42
          ],
          [
           92,
           65.75
          ],
          [
           122,
           62.33
          ],
          [
           130,
           63.75
          ],
          [
           143,
           64.75
          ],
          [
           98,
           64.17
          ],
          [
           101,
           65.17
          ],
          [
           118,
           65.5
          ],
          [
           109,
           65
          ],
          [
           122,
           66.67
          ],
          [
           122,
           67.08
          ],
          [
           95,
           65.58
          ],
          [
           79,
           62.17
          ],
          [
           100,
           64.5
          ],
          [
           98,
           64.33
          ],
          [
           114,
           67.5
          ],
          [
           95,
           57.58
          ],
          [
           129,
           60.83
          ],
          [
           100,
           60.42
          ],
          [
           100,
           62.83
          ],
          [
           108,
           66
          ],
          [
           124,
           64.75
          ],
          [
           89,
           62.17
          ],
          [
           116,
           65.5
          ],
          [
           71,
           59.27
          ],
          [
           125,
           66.36
          ],
          [
           96,
           62.17
          ],
          [
           109,
           65.58
          ],
          [
           94,
           65.25
          ],
          [
           99,
           60.67
          ],
          [
           90,
           64.75
          ]
         ],
         "hovertemplate": "Provincia=SALAMANCA<br>Año=%{x}<br>Precipitación Total Anual(mm)=%{y}<br>Lluvia=%{customdata[0]}<br>Hum relativa=%{customdata[1]}<extra></extra>",
         "legendgroup": "SALAMANCA",
         "marker": {
          "color": "#19d3f3",
          "pattern": {
           "shape": ""
          }
         },
         "name": "SALAMANCA",
         "offsetgroup": "SALAMANCA",
         "orientation": "v",
         "showlegend": true,
         "textposition": "auto",
         "type": "bar",
         "x": [
          1979,
          1980,
          1981,
          1982,
          1983,
          1984,
          1985,
          1986,
          1987,
          1988,
          1989,
          1990,
          1991,
          1992,
          1993,
          1994,
          1995,
          1996,
          1997,
          1998,
          1999,
          2000,
          2001,
          2002,
          2003,
          2004,
          2005,
          2006,
          2007,
          2008,
          2009,
          2010,
          2011,
          2012,
          2013,
          2014,
          2015,
          2016,
          2017,
          2018,
          2019,
          2020,
          2021,
          2022,
          2023
         ],
         "xaxis": "x",
         "y": [
          495.2,
          270.7,
          295.9,
          343.2,
          385.7,
          487.5,
          364.1,
          310.6,
          404,
          432.3,
          470.3,
          331.3,
          295.9,
          267.9,
          411.3,
          317.8,
          360.1,
          432.7,
          547,
          321.70000000000005,
          323.5,
          391.5,
          355.2,
          426.1,
          475,
          272.2,
          278.8,
          353.9,
          421.9,
          371.6,
          312.4,
          414.7,
          246.8,
          363.6,
          437.2,
          316.4,
          219.4,
          396.5,
          247.6,
          450.6,
          277.8,
          344,
          455.9,
          378.6,
          349.5
         ],
         "yaxis": "y"
        },
        {
         "alignmentgroup": "True",
         "customdata": [
          [
           32,
           61.42
          ],
          [
           1,
           58.67
          ],
          [
           8,
           55.75
          ],
          [
           5,
           60.17
          ],
          [
           1,
           57.75
          ],
          [
           0,
           61.25
          ],
          [
           35,
           59.83
          ],
          [
           70,
           59.25
          ],
          [
           80,
           61.33
          ],
          [
           86,
           59.75
          ],
          [
           88,
           59.5
          ],
          [
           65,
           59.08
          ],
          [
           84,
           57.75
          ],
          [
           75,
           56.25
          ],
          [
           88,
           58.42
          ],
          [
           58,
           58.42
          ],
          [
           74,
           63.83
          ],
          [
           111,
           63.67
          ],
          [
           89,
           60.5
          ],
          [
           80,
           60.17
          ],
          [
           73,
           56.92
          ],
          [
           75,
           58.83
          ],
          [
           88,
           60.5
          ],
          [
           87,
           61.08
          ],
          [
           83,
           59.33
          ],
          [
           68,
           60.5
          ],
          [
           61,
           54.67
          ],
          [
           78,
           60.25
          ],
          [
           79,
           60.92
          ],
          [
           83,
           55.83
          ],
          [
           73,
           54.17
          ],
          [
           107,
           58.25
          ],
          [
           71,
           56.09
          ],
          [
           68,
           51.08
          ],
          [
           80,
           57.75
          ],
          [
           95,
           60.25
          ],
          [
           72,
           56.92
          ],
          [
           84,
           58.25
          ],
          [
           56,
           53.92
          ],
          [
           101,
           61.67
          ],
          [
           50,
           56.91
          ],
          [
           76,
           61.9
          ],
          [
           71,
           58.17
          ],
          [
           77,
           57.17
          ],
          [
           63,
           52.36
          ]
         ],
         "hovertemplate": "Provincia=SEVILLA<br>Año=%{x}<br>Precipitación Total Anual(mm)=%{y}<br>Lluvia=%{customdata[0]}<br>Hum relativa=%{customdata[1]}<extra></extra>",
         "legendgroup": "SEVILLA",
         "marker": {
          "color": "#FF6692",
          "pattern": {
           "shape": ""
          }
         },
         "name": "SEVILLA",
         "offsetgroup": "SEVILLA",
         "orientation": "v",
         "showlegend": true,
         "textposition": "auto",
         "type": "bar",
         "x": [
          1979,
          1980,
          1981,
          1982,
          1983,
          1984,
          1985,
          1986,
          1987,
          1988,
          1989,
          1990,
          1991,
          1992,
          1993,
          1994,
          1995,
          1996,
          1997,
          1998,
          1999,
          2000,
          2001,
          2002,
          2003,
          2004,
          2005,
          2006,
          2007,
          2008,
          2009,
          2010,
          2011,
          2012,
          2013,
          2014,
          2015,
          2016,
          2017,
          2018,
          2019,
          2020,
          2021,
          2022,
          2023
         ],
         "xaxis": "x",
         "y": [
          679.7,
          425.5,
          307,
          407.6,
          611.6,
          511,
          624.1,
          382.7,
          812.1,
          503.5,
          940.6,
          429.8,
          560.5,
          369.8,
          316.8,
          326.9,
          524.3,
          896.8000000000001,
          710.5,
          408.4,
          428.1,
          523.4,
          674.1999999999999,
          530.7,
          682.7,
          364.2000000000001,
          254.5,
          690.3,
          377.5,
          487.3,
          597.4,
          908.6,
          396.2,
          463.7,
          404.8,
          634.5,
          336.2,
          619.2,
          321,
          594.7,
          265.4,
          392.8,
          303.7,
          363.2,
          324.8
         ],
         "yaxis": "y"
        },
        {
         "alignmentgroup": "True",
         "customdata": [
          [
           23,
           73.08
          ],
          [
           20,
           73.08
          ],
          [
           14,
           72
          ],
          [
           20,
           71.17
          ],
          [
           32,
           72
          ],
          [
           24,
           73.67
          ],
          [
           27,
           74.42
          ],
          [
           17,
           73.42
          ],
          [
           37,
           76.17
          ],
          [
           40,
           77.75
          ],
          [
           53,
           78.83
          ],
          [
           44,
           80.75
          ],
          [
           45,
           81.75
          ],
          [
           52,
           77.42
          ],
          [
           59,
           73.67
          ],
          [
           38,
           74.92
          ],
          [
           50,
           77.92
          ],
          [
           91,
           72.58
          ],
          [
           59,
           74.83
          ],
          [
           48,
           77.42
          ],
          [
           48,
           78.5
          ],
          [
           38,
           79.42
          ],
          [
           53,
           81.33
          ],
          [
           80,
           77.58
          ],
          [
           63,
           72.67
          ],
          [
           65,
           71.33
          ],
          [
           65,
           71.33
          ],
          [
           61,
           70.5
          ],
          [
           49,
           66.82
          ],
          [
           65,
           69.17
          ],
          [
           63,
           66.6
          ],
          [
           86,
           67.36
          ],
          [
           68,
           70.58
          ],
          [
           44,
           71.55
          ],
          [
           63,
           70.27
          ],
          [
           82,
           70.75
          ],
          [
           72,
           69.5
          ],
          [
           76,
           72.17
          ],
          [
           48,
           71.92
          ],
          [
           83,
           72.17
          ],
          [
           52,
           71.18
          ],
          [
           65,
           70.83
          ],
          [
           55,
           70.58
          ],
          [
           66,
           71.75
          ],
          [
           54,
           69.91
          ]
         ],
         "hovertemplate": "Provincia=STA. CRUZ DE TENERIFE<br>Año=%{x}<br>Precipitación Total Anual(mm)=%{y}<br>Lluvia=%{customdata[0]}<br>Hum relativa=%{customdata[1]}<extra></extra>",
         "legendgroup": "STA. CRUZ DE TENERIFE",
         "marker": {
          "color": "#B6E880",
          "pattern": {
           "shape": ""
          }
         },
         "name": "STA. CRUZ DE TENERIFE",
         "offsetgroup": "STA. CRUZ DE TENERIFE",
         "orientation": "v",
         "showlegend": true,
         "textposition": "auto",
         "type": "bar",
         "x": [
          1979,
          1980,
          1981,
          1982,
          1983,
          1984,
          1985,
          1986,
          1987,
          1988,
          1989,
          1990,
          1991,
          1992,
          1993,
          1994,
          1995,
          1996,
          1997,
          1998,
          1999,
          2000,
          2001,
          2002,
          2003,
          2004,
          2005,
          2006,
          2007,
          2008,
          2009,
          2010,
          2011,
          2012,
          2013,
          2014,
          2015,
          2016,
          2017,
          2018,
          2019,
          2020,
          2021,
          2022,
          2023
         ],
         "xaxis": "x",
         "y": [
          179,
          157.6,
          92.3,
          143.9,
          204.4,
          124.4,
          165.3,
          101.6,
          450.3,
          583.3,
          191.4,
          96,
          189,
          64.8,
          177.3,
          31.3,
          169.7,
          203.9,
          234.5,
          204.5,
          263.1,
          98.5,
          203,
          276.90000000000003,
          56.3,
          400.6,
          300,
          118.3,
          230,
          172.20000000000002,
          169.1,
          457.6,
          170.2,
          178.4,
          282.4,
          153.1,
          140.3,
          148.7,
          95.1,
          177.20000000000002,
          84.3,
          110.1,
          66,
          233.1,
          102.9
         ],
         "yaxis": "y"
        },
        {
         "alignmentgroup": "True",
         "customdata": [
          [
           1,
           63.58
          ],
          [
           40,
           65.58
          ],
          [
           56,
           63.33
          ],
          [
           70,
           65.17
          ],
          [
           67,
           64.83
          ],
          [
           54,
           65.08
          ],
          [
           78,
           62.25
          ],
          [
           89,
           61.33
          ],
          [
           97,
           66.75
          ],
          [
           97,
           65.67
          ],
          [
           124,
           70
          ],
          [
           102,
           66.33
          ],
          [
           96,
           65.08
          ],
          [
           90,
           64.08
          ],
          [
           69,
           64.67
          ],
          [
           55,
           64.67
          ],
          [
           74,
           64
          ],
          [
           104,
           62.92
          ],
          [
           101,
           67.58
          ],
          [
           75,
           64.58
          ],
          [
           70,
           62.42
          ],
          [
           68,
           63.5
          ],
          [
           72,
           64.33
          ],
          [
           95,
           63
          ],
          [
           95,
           62.75
          ],
          [
           84,
           65
          ],
          [
           74,
           60
          ],
          [
           82,
           58
          ],
          [
           93,
           57.17
          ],
          [
           109,
           57.82
          ],
          [
           92,
           57.5
          ],
          [
           102,
           55.67
          ],
          [
           90,
           59.75
          ],
          [
           61,
           53.64
          ],
          [
           68,
           55.55
          ],
          [
           71,
           58.91
          ],
          [
           75,
           61.18
          ],
          [
           82,
           60.42
          ],
          [
           69,
           59.33
          ],
          [
           105,
           59.58
          ],
          [
           67,
           58.58
          ],
          [
           87,
           63.5
          ],
          [
           100,
           63.42
          ],
          [
           98,
           61.5
          ],
          [
           70,
           58.42
          ]
         ],
         "hovertemplate": "Provincia=VALENCIA<br>Año=%{x}<br>Precipitación Total Anual(mm)=%{y}<br>Lluvia=%{customdata[0]}<br>Hum relativa=%{customdata[1]}<extra></extra>",
         "legendgroup": "VALENCIA",
         "marker": {
          "color": "#FF97FF",
          "pattern": {
           "shape": ""
          }
         },
         "name": "VALENCIA",
         "offsetgroup": "VALENCIA",
         "orientation": "v",
         "showlegend": true,
         "textposition": "auto",
         "type": "bar",
         "x": [
          1979,
          1980,
          1981,
          1982,
          1983,
          1984,
          1985,
          1986,
          1987,
          1988,
          1989,
          1990,
          1991,
          1992,
          1993,
          1994,
          1995,
          1996,
          1997,
          1998,
          1999,
          2000,
          2001,
          2002,
          2003,
          2004,
          2005,
          2006,
          2007,
          2008,
          2009,
          2010,
          2011,
          2012,
          2013,
          2014,
          2015,
          2016,
          2017,
          2018,
          2019,
          2020,
          2021,
          2022,
          2023
         ],
         "xaxis": "x",
         "y": [
          266.2,
          415.9,
          236.9,
          696.4,
          252.1,
          383.8,
          352,
          585,
          555.6,
          521.5,
          1043.1,
          578.8,
          660.1,
          341.5,
          376.7,
          275.8,
          350.5,
          498.8,
          300.6,
          385.1,
          284,
          461.1,
          505.9,
          561.8,
          405.3,
          565.9,
          291.5,
          370.1,
          616.7,
          513.2,
          377.2000000000001,
          391.6,
          409.1,
          419.6,
          261.1,
          270.8,
          422.7,
          487.3,
          324,
          543.4,
          394.3,
          544.2,
          456.2,
          741.9,
          313.9
         ],
         "yaxis": "y"
        }
       ],
       "layout": {
        "barmode": "relative",
        "legend": {
         "title": {
          "text": "Provincia"
         },
         "tracegroupgap": 0
        },
        "template": {
         "data": {
          "bar": [
           {
            "error_x": {
             "color": "#2a3f5f"
            },
            "error_y": {
             "color": "#2a3f5f"
            },
            "marker": {
             "line": {
              "color": "#E5ECF6",
              "width": 0.5
             },
             "pattern": {
              "fillmode": "overlay",
              "size": 10,
              "solidity": 0.2
             }
            },
            "type": "bar"
           }
          ],
          "barpolar": [
           {
            "marker": {
             "line": {
              "color": "#E5ECF6",
              "width": 0.5
             },
             "pattern": {
              "fillmode": "overlay",
              "size": 10,
              "solidity": 0.2
             }
            },
            "type": "barpolar"
           }
          ],
          "carpet": [
           {
            "aaxis": {
             "endlinecolor": "#2a3f5f",
             "gridcolor": "white",
             "linecolor": "white",
             "minorgridcolor": "white",
             "startlinecolor": "#2a3f5f"
            },
            "baxis": {
             "endlinecolor": "#2a3f5f",
             "gridcolor": "white",
             "linecolor": "white",
             "minorgridcolor": "white",
             "startlinecolor": "#2a3f5f"
            },
            "type": "carpet"
           }
          ],
          "choropleth": [
           {
            "colorbar": {
             "outlinewidth": 0,
             "ticks": ""
            },
            "type": "choropleth"
           }
          ],
          "contour": [
           {
            "colorbar": {
             "outlinewidth": 0,
             "ticks": ""
            },
            "colorscale": [
             [
              0,
              "#0d0887"
             ],
             [
              0.1111111111111111,
              "#46039f"
             ],
             [
              0.2222222222222222,
              "#7201a8"
             ],
             [
              0.3333333333333333,
              "#9c179e"
             ],
             [
              0.4444444444444444,
              "#bd3786"
             ],
             [
              0.5555555555555556,
              "#d8576b"
             ],
             [
              0.6666666666666666,
              "#ed7953"
             ],
             [
              0.7777777777777778,
              "#fb9f3a"
             ],
             [
              0.8888888888888888,
              "#fdca26"
             ],
             [
              1,
              "#f0f921"
             ]
            ],
            "type": "contour"
           }
          ],
          "contourcarpet": [
           {
            "colorbar": {
             "outlinewidth": 0,
             "ticks": ""
            },
            "type": "contourcarpet"
           }
          ],
          "heatmap": [
           {
            "colorbar": {
             "outlinewidth": 0,
             "ticks": ""
            },
            "colorscale": [
             [
              0,
              "#0d0887"
             ],
             [
              0.1111111111111111,
              "#46039f"
             ],
             [
              0.2222222222222222,
              "#7201a8"
             ],
             [
              0.3333333333333333,
              "#9c179e"
             ],
             [
              0.4444444444444444,
              "#bd3786"
             ],
             [
              0.5555555555555556,
              "#d8576b"
             ],
             [
              0.6666666666666666,
              "#ed7953"
             ],
             [
              0.7777777777777778,
              "#fb9f3a"
             ],
             [
              0.8888888888888888,
              "#fdca26"
             ],
             [
              1,
              "#f0f921"
             ]
            ],
            "type": "heatmap"
           }
          ],
          "heatmapgl": [
           {
            "colorbar": {
             "outlinewidth": 0,
             "ticks": ""
            },
            "colorscale": [
             [
              0,
              "#0d0887"
             ],
             [
              0.1111111111111111,
              "#46039f"
             ],
             [
              0.2222222222222222,
              "#7201a8"
             ],
             [
              0.3333333333333333,
              "#9c179e"
             ],
             [
              0.4444444444444444,
              "#bd3786"
             ],
             [
              0.5555555555555556,
              "#d8576b"
             ],
             [
              0.6666666666666666,
              "#ed7953"
             ],
             [
              0.7777777777777778,
              "#fb9f3a"
             ],
             [
              0.8888888888888888,
              "#fdca26"
             ],
             [
              1,
              "#f0f921"
             ]
            ],
            "type": "heatmapgl"
           }
          ],
          "histogram": [
           {
            "marker": {
             "pattern": {
              "fillmode": "overlay",
              "size": 10,
              "solidity": 0.2
             }
            },
            "type": "histogram"
           }
          ],
          "histogram2d": [
           {
            "colorbar": {
             "outlinewidth": 0,
             "ticks": ""
            },
            "colorscale": [
             [
              0,
              "#0d0887"
             ],
             [
              0.1111111111111111,
              "#46039f"
             ],
             [
              0.2222222222222222,
              "#7201a8"
             ],
             [
              0.3333333333333333,
              "#9c179e"
             ],
             [
              0.4444444444444444,
              "#bd3786"
             ],
             [
              0.5555555555555556,
              "#d8576b"
             ],
             [
              0.6666666666666666,
              "#ed7953"
             ],
             [
              0.7777777777777778,
              "#fb9f3a"
             ],
             [
              0.8888888888888888,
              "#fdca26"
             ],
             [
              1,
              "#f0f921"
             ]
            ],
            "type": "histogram2d"
           }
          ],
          "histogram2dcontour": [
           {
            "colorbar": {
             "outlinewidth": 0,
             "ticks": ""
            },
            "colorscale": [
             [
              0,
              "#0d0887"
             ],
             [
              0.1111111111111111,
              "#46039f"
             ],
             [
              0.2222222222222222,
              "#7201a8"
             ],
             [
              0.3333333333333333,
              "#9c179e"
             ],
             [
              0.4444444444444444,
              "#bd3786"
             ],
             [
              0.5555555555555556,
              "#d8576b"
             ],
             [
              0.6666666666666666,
              "#ed7953"
             ],
             [
              0.7777777777777778,
              "#fb9f3a"
             ],
             [
              0.8888888888888888,
              "#fdca26"
             ],
             [
              1,
              "#f0f921"
             ]
            ],
            "type": "histogram2dcontour"
           }
          ],
          "mesh3d": [
           {
            "colorbar": {
             "outlinewidth": 0,
             "ticks": ""
            },
            "type": "mesh3d"
           }
          ],
          "parcoords": [
           {
            "line": {
             "colorbar": {
              "outlinewidth": 0,
              "ticks": ""
             }
            },
            "type": "parcoords"
           }
          ],
          "pie": [
           {
            "automargin": true,
            "type": "pie"
           }
          ],
          "scatter": [
           {
            "fillpattern": {
             "fillmode": "overlay",
             "size": 10,
             "solidity": 0.2
            },
            "type": "scatter"
           }
          ],
          "scatter3d": [
           {
            "line": {
             "colorbar": {
              "outlinewidth": 0,
              "ticks": ""
             }
            },
            "marker": {
             "colorbar": {
              "outlinewidth": 0,
              "ticks": ""
             }
            },
            "type": "scatter3d"
           }
          ],
          "scattercarpet": [
           {
            "marker": {
             "colorbar": {
              "outlinewidth": 0,
              "ticks": ""
             }
            },
            "type": "scattercarpet"
           }
          ],
          "scattergeo": [
           {
            "marker": {
             "colorbar": {
              "outlinewidth": 0,
              "ticks": ""
             }
            },
            "type": "scattergeo"
           }
          ],
          "scattergl": [
           {
            "marker": {
             "colorbar": {
              "outlinewidth": 0,
              "ticks": ""
             }
            },
            "type": "scattergl"
           }
          ],
          "scattermapbox": [
           {
            "marker": {
             "colorbar": {
              "outlinewidth": 0,
              "ticks": ""
             }
            },
            "type": "scattermapbox"
           }
          ],
          "scatterpolar": [
           {
            "marker": {
             "colorbar": {
              "outlinewidth": 0,
              "ticks": ""
             }
            },
            "type": "scatterpolar"
           }
          ],
          "scatterpolargl": [
           {
            "marker": {
             "colorbar": {
              "outlinewidth": 0,
              "ticks": ""
             }
            },
            "type": "scatterpolargl"
           }
          ],
          "scatterternary": [
           {
            "marker": {
             "colorbar": {
              "outlinewidth": 0,
              "ticks": ""
             }
            },
            "type": "scatterternary"
           }
          ],
          "surface": [
           {
            "colorbar": {
             "outlinewidth": 0,
             "ticks": ""
            },
            "colorscale": [
             [
              0,
              "#0d0887"
             ],
             [
              0.1111111111111111,
              "#46039f"
             ],
             [
              0.2222222222222222,
              "#7201a8"
             ],
             [
              0.3333333333333333,
              "#9c179e"
             ],
             [
              0.4444444444444444,
              "#bd3786"
             ],
             [
              0.5555555555555556,
              "#d8576b"
             ],
             [
              0.6666666666666666,
              "#ed7953"
             ],
             [
              0.7777777777777778,
              "#fb9f3a"
             ],
             [
              0.8888888888888888,
              "#fdca26"
             ],
             [
              1,
              "#f0f921"
             ]
            ],
            "type": "surface"
           }
          ],
          "table": [
           {
            "cells": {
             "fill": {
              "color": "#EBF0F8"
             },
             "line": {
              "color": "white"
             }
            },
            "header": {
             "fill": {
              "color": "#C8D4E3"
             },
             "line": {
              "color": "white"
             }
            },
            "type": "table"
           }
          ]
         },
         "layout": {
          "annotationdefaults": {
           "arrowcolor": "#2a3f5f",
           "arrowhead": 0,
           "arrowwidth": 1
          },
          "autotypenumbers": "strict",
          "coloraxis": {
           "colorbar": {
            "outlinewidth": 0,
            "ticks": ""
           }
          },
          "colorscale": {
           "diverging": [
            [
             0,
             "#8e0152"
            ],
            [
             0.1,
             "#c51b7d"
            ],
            [
             0.2,
             "#de77ae"
            ],
            [
             0.3,
             "#f1b6da"
            ],
            [
             0.4,
             "#fde0ef"
            ],
            [
             0.5,
             "#f7f7f7"
            ],
            [
             0.6,
             "#e6f5d0"
            ],
            [
             0.7,
             "#b8e186"
            ],
            [
             0.8,
             "#7fbc41"
            ],
            [
             0.9,
             "#4d9221"
            ],
            [
             1,
             "#276419"
            ]
           ],
           "sequential": [
            [
             0,
             "#0d0887"
            ],
            [
             0.1111111111111111,
             "#46039f"
            ],
            [
             0.2222222222222222,
             "#7201a8"
            ],
            [
             0.3333333333333333,
             "#9c179e"
            ],
            [
             0.4444444444444444,
             "#bd3786"
            ],
            [
             0.5555555555555556,
             "#d8576b"
            ],
            [
             0.6666666666666666,
             "#ed7953"
            ],
            [
             0.7777777777777778,
             "#fb9f3a"
            ],
            [
             0.8888888888888888,
             "#fdca26"
            ],
            [
             1,
             "#f0f921"
            ]
           ],
           "sequentialminus": [
            [
             0,
             "#0d0887"
            ],
            [
             0.1111111111111111,
             "#46039f"
            ],
            [
             0.2222222222222222,
             "#7201a8"
            ],
            [
             0.3333333333333333,
             "#9c179e"
            ],
            [
             0.4444444444444444,
             "#bd3786"
            ],
            [
             0.5555555555555556,
             "#d8576b"
            ],
            [
             0.6666666666666666,
             "#ed7953"
            ],
            [
             0.7777777777777778,
             "#fb9f3a"
            ],
            [
             0.8888888888888888,
             "#fdca26"
            ],
            [
             1,
             "#f0f921"
            ]
           ]
          },
          "colorway": [
           "#636efa",
           "#EF553B",
           "#00cc96",
           "#ab63fa",
           "#FFA15A",
           "#19d3f3",
           "#FF6692",
           "#B6E880",
           "#FF97FF",
           "#FECB52"
          ],
          "font": {
           "color": "#2a3f5f"
          },
          "geo": {
           "bgcolor": "white",
           "lakecolor": "white",
           "landcolor": "#E5ECF6",
           "showlakes": true,
           "showland": true,
           "subunitcolor": "white"
          },
          "hoverlabel": {
           "align": "left"
          },
          "hovermode": "closest",
          "mapbox": {
           "style": "light"
          },
          "paper_bgcolor": "white",
          "plot_bgcolor": "#E5ECF6",
          "polar": {
           "angularaxis": {
            "gridcolor": "white",
            "linecolor": "white",
            "ticks": ""
           },
           "bgcolor": "#E5ECF6",
           "radialaxis": {
            "gridcolor": "white",
            "linecolor": "white",
            "ticks": ""
           }
          },
          "scene": {
           "xaxis": {
            "backgroundcolor": "#E5ECF6",
            "gridcolor": "white",
            "gridwidth": 2,
            "linecolor": "white",
            "showbackground": true,
            "ticks": "",
            "zerolinecolor": "white"
           },
           "yaxis": {
            "backgroundcolor": "#E5ECF6",
            "gridcolor": "white",
            "gridwidth": 2,
            "linecolor": "white",
            "showbackground": true,
            "ticks": "",
            "zerolinecolor": "white"
           },
           "zaxis": {
            "backgroundcolor": "#E5ECF6",
            "gridcolor": "white",
            "gridwidth": 2,
            "linecolor": "white",
            "showbackground": true,
            "ticks": "",
            "zerolinecolor": "white"
           }
          },
          "shapedefaults": {
           "line": {
            "color": "#2a3f5f"
           }
          },
          "ternary": {
           "aaxis": {
            "gridcolor": "white",
            "linecolor": "white",
            "ticks": ""
           },
           "baxis": {
            "gridcolor": "white",
            "linecolor": "white",
            "ticks": ""
           },
           "bgcolor": "#E5ECF6",
           "caxis": {
            "gridcolor": "white",
            "linecolor": "white",
            "ticks": ""
           }
          },
          "title": {
           "x": 0.05
          },
          "xaxis": {
           "automargin": true,
           "gridcolor": "white",
           "linecolor": "white",
           "ticks": "",
           "title": {
            "standoff": 15
           },
           "zerolinecolor": "white",
           "zerolinewidth": 2
          },
          "yaxis": {
           "automargin": true,
           "gridcolor": "white",
           "linecolor": "white",
           "ticks": "",
           "title": {
            "standoff": 15
           },
           "zerolinecolor": "white",
           "zerolinewidth": 2
          }
         }
        },
        "title": {
         "text": "Histórico Precipitaciones (1979-2023)"
        },
        "xaxis": {
         "anchor": "y",
         "domain": [
          0,
          1
         ],
         "title": {
          "text": "Año"
         }
        },
        "yaxis": {
         "anchor": "x",
         "domain": [
          0,
          1
         ],
         "title": {
          "text": "Precipitación Total Anual(mm)"
         }
        }
       }
      }
     },
     "metadata": {},
     "output_type": "display_data"
    }
   ],
   "source": [
    "#Evolucion historica de precipitaciones en las 9 estaciones meteorológicas estudiadas entre 1979 y 2023 \n",
    "px.bar(data_frame = df,\n",
    "       x          = \"Year\",\n",
    "       y          = \"Precipitacion\",\n",
    "       title      = \"Histórico Precipitaciones (1979-2023)\",\n",
    "       hover_data = [\"Lluvia\", \"Hum relativa\"],\n",
    "       labels     = {\"Year\":\"Año\", \"Precipitacion\":\"Precipitación Total Anual(mm)\"},\n",
    "       color      = \"Provincia\",\n",
    "       \n",
    "      )"
   ]
  },
  {
   "cell_type": "code",
   "execution_count": null,
   "metadata": {},
   "outputs": [
    {
     "data": {
      "application/vnd.plotly.v1+json": {
       "config": {
        "plotlyServerURL": "https://plot.ly"
       },
       "data": [
        {
         "coloraxis": "coloraxis",
         "hovertemplate": "x: %{x}<br>y: %{y}<br>color: %{z}<extra></extra>",
         "name": "0",
         "texttemplate": "%{z}",
         "type": "heatmap",
         "x": [
          "Tmed_year",
          "Tmed_min",
          "Tmed_max",
          "Precipitacion",
          "Lluvia",
          "Hum relativa",
          "Dias>30º",
          "Dias<0º"
         ],
         "xaxis": "x",
         "y": [
          "Tmed_year",
          "Tmed_min",
          "Tmed_max",
          "Precipitacion",
          "Lluvia",
          "Hum relativa",
          "Dias>30º",
          "Dias<0º"
         ],
         "yaxis": "y",
         "z": [
          [
           1,
           0.95,
           0.85,
           -0.35,
           -0.52,
           0.06,
           0.07,
           -0.72
          ],
          [
           0.95,
           1,
           0.64,
           -0.32,
           -0.47,
           0.18,
           -0.21,
           -0.74
          ],
          [
           0.85,
           0.64,
           1,
           -0.33,
           -0.48,
           -0.15,
           0.51,
           -0.52
          ],
          [
           -0.35,
           -0.32,
           -0.33,
           1,
           0.77,
           0.21,
           -0.11,
           -0.11
          ],
          [
           -0.52,
           -0.47,
           -0.48,
           0.77,
           1,
           0.21,
           -0.15,
           0.17
          ],
          [
           0.06,
           0.18,
           -0.15,
           0.21,
           0.21,
           1,
           -0.63,
           -0.08
          ],
          [
           0.07,
           -0.21,
           0.51,
           -0.11,
           -0.15,
           -0.63,
           1,
           0.06
          ],
          [
           -0.72,
           -0.74,
           -0.52,
           -0.11,
           0.17,
           -0.08,
           0.06,
           1
          ]
         ]
        }
       ],
       "layout": {
        "coloraxis": {
         "colorscale": [
          [
           0,
           "#0d0887"
          ],
          [
           0.1111111111111111,
           "#46039f"
          ],
          [
           0.2222222222222222,
           "#7201a8"
          ],
          [
           0.3333333333333333,
           "#9c179e"
          ],
          [
           0.4444444444444444,
           "#bd3786"
          ],
          [
           0.5555555555555556,
           "#d8576b"
          ],
          [
           0.6666666666666666,
           "#ed7953"
          ],
          [
           0.7777777777777778,
           "#fb9f3a"
          ],
          [
           0.8888888888888888,
           "#fdca26"
          ],
          [
           1,
           "#f0f921"
          ]
         ]
        },
        "template": {
         "data": {
          "bar": [
           {
            "error_x": {
             "color": "#2a3f5f"
            },
            "error_y": {
             "color": "#2a3f5f"
            },
            "marker": {
             "line": {
              "color": "#E5ECF6",
              "width": 0.5
             },
             "pattern": {
              "fillmode": "overlay",
              "size": 10,
              "solidity": 0.2
             }
            },
            "type": "bar"
           }
          ],
          "barpolar": [
           {
            "marker": {
             "line": {
              "color": "#E5ECF6",
              "width": 0.5
             },
             "pattern": {
              "fillmode": "overlay",
              "size": 10,
              "solidity": 0.2
             }
            },
            "type": "barpolar"
           }
          ],
          "carpet": [
           {
            "aaxis": {
             "endlinecolor": "#2a3f5f",
             "gridcolor": "white",
             "linecolor": "white",
             "minorgridcolor": "white",
             "startlinecolor": "#2a3f5f"
            },
            "baxis": {
             "endlinecolor": "#2a3f5f",
             "gridcolor": "white",
             "linecolor": "white",
             "minorgridcolor": "white",
             "startlinecolor": "#2a3f5f"
            },
            "type": "carpet"
           }
          ],
          "choropleth": [
           {
            "colorbar": {
             "outlinewidth": 0,
             "ticks": ""
            },
            "type": "choropleth"
           }
          ],
          "contour": [
           {
            "colorbar": {
             "outlinewidth": 0,
             "ticks": ""
            },
            "colorscale": [
             [
              0,
              "#0d0887"
             ],
             [
              0.1111111111111111,
              "#46039f"
             ],
             [
              0.2222222222222222,
              "#7201a8"
             ],
             [
              0.3333333333333333,
              "#9c179e"
             ],
             [
              0.4444444444444444,
              "#bd3786"
             ],
             [
              0.5555555555555556,
              "#d8576b"
             ],
             [
              0.6666666666666666,
              "#ed7953"
             ],
             [
              0.7777777777777778,
              "#fb9f3a"
             ],
             [
              0.8888888888888888,
              "#fdca26"
             ],
             [
              1,
              "#f0f921"
             ]
            ],
            "type": "contour"
           }
          ],
          "contourcarpet": [
           {
            "colorbar": {
             "outlinewidth": 0,
             "ticks": ""
            },
            "type": "contourcarpet"
           }
          ],
          "heatmap": [
           {
            "colorbar": {
             "outlinewidth": 0,
             "ticks": ""
            },
            "colorscale": [
             [
              0,
              "#0d0887"
             ],
             [
              0.1111111111111111,
              "#46039f"
             ],
             [
              0.2222222222222222,
              "#7201a8"
             ],
             [
              0.3333333333333333,
              "#9c179e"
             ],
             [
              0.4444444444444444,
              "#bd3786"
             ],
             [
              0.5555555555555556,
              "#d8576b"
             ],
             [
              0.6666666666666666,
              "#ed7953"
             ],
             [
              0.7777777777777778,
              "#fb9f3a"
             ],
             [
              0.8888888888888888,
              "#fdca26"
             ],
             [
              1,
              "#f0f921"
             ]
            ],
            "type": "heatmap"
           }
          ],
          "heatmapgl": [
           {
            "colorbar": {
             "outlinewidth": 0,
             "ticks": ""
            },
            "colorscale": [
             [
              0,
              "#0d0887"
             ],
             [
              0.1111111111111111,
              "#46039f"
             ],
             [
              0.2222222222222222,
              "#7201a8"
             ],
             [
              0.3333333333333333,
              "#9c179e"
             ],
             [
              0.4444444444444444,
              "#bd3786"
             ],
             [
              0.5555555555555556,
              "#d8576b"
             ],
             [
              0.6666666666666666,
              "#ed7953"
             ],
             [
              0.7777777777777778,
              "#fb9f3a"
             ],
             [
              0.8888888888888888,
              "#fdca26"
             ],
             [
              1,
              "#f0f921"
             ]
            ],
            "type": "heatmapgl"
           }
          ],
          "histogram": [
           {
            "marker": {
             "pattern": {
              "fillmode": "overlay",
              "size": 10,
              "solidity": 0.2
             }
            },
            "type": "histogram"
           }
          ],
          "histogram2d": [
           {
            "colorbar": {
             "outlinewidth": 0,
             "ticks": ""
            },
            "colorscale": [
             [
              0,
              "#0d0887"
             ],
             [
              0.1111111111111111,
              "#46039f"
             ],
             [
              0.2222222222222222,
              "#7201a8"
             ],
             [
              0.3333333333333333,
              "#9c179e"
             ],
             [
              0.4444444444444444,
              "#bd3786"
             ],
             [
              0.5555555555555556,
              "#d8576b"
             ],
             [
              0.6666666666666666,
              "#ed7953"
             ],
             [
              0.7777777777777778,
              "#fb9f3a"
             ],
             [
              0.8888888888888888,
              "#fdca26"
             ],
             [
              1,
              "#f0f921"
             ]
            ],
            "type": "histogram2d"
           }
          ],
          "histogram2dcontour": [
           {
            "colorbar": {
             "outlinewidth": 0,
             "ticks": ""
            },
            "colorscale": [
             [
              0,
              "#0d0887"
             ],
             [
              0.1111111111111111,
              "#46039f"
             ],
             [
              0.2222222222222222,
              "#7201a8"
             ],
             [
              0.3333333333333333,
              "#9c179e"
             ],
             [
              0.4444444444444444,
              "#bd3786"
             ],
             [
              0.5555555555555556,
              "#d8576b"
             ],
             [
              0.6666666666666666,
              "#ed7953"
             ],
             [
              0.7777777777777778,
              "#fb9f3a"
             ],
             [
              0.8888888888888888,
              "#fdca26"
             ],
             [
              1,
              "#f0f921"
             ]
            ],
            "type": "histogram2dcontour"
           }
          ],
          "mesh3d": [
           {
            "colorbar": {
             "outlinewidth": 0,
             "ticks": ""
            },
            "type": "mesh3d"
           }
          ],
          "parcoords": [
           {
            "line": {
             "colorbar": {
              "outlinewidth": 0,
              "ticks": ""
             }
            },
            "type": "parcoords"
           }
          ],
          "pie": [
           {
            "automargin": true,
            "type": "pie"
           }
          ],
          "scatter": [
           {
            "fillpattern": {
             "fillmode": "overlay",
             "size": 10,
             "solidity": 0.2
            },
            "type": "scatter"
           }
          ],
          "scatter3d": [
           {
            "line": {
             "colorbar": {
              "outlinewidth": 0,
              "ticks": ""
             }
            },
            "marker": {
             "colorbar": {
              "outlinewidth": 0,
              "ticks": ""
             }
            },
            "type": "scatter3d"
           }
          ],
          "scattercarpet": [
           {
            "marker": {
             "colorbar": {
              "outlinewidth": 0,
              "ticks": ""
             }
            },
            "type": "scattercarpet"
           }
          ],
          "scattergeo": [
           {
            "marker": {
             "colorbar": {
              "outlinewidth": 0,
              "ticks": ""
             }
            },
            "type": "scattergeo"
           }
          ],
          "scattergl": [
           {
            "marker": {
             "colorbar": {
              "outlinewidth": 0,
              "ticks": ""
             }
            },
            "type": "scattergl"
           }
          ],
          "scattermapbox": [
           {
            "marker": {
             "colorbar": {
              "outlinewidth": 0,
              "ticks": ""
             }
            },
            "type": "scattermapbox"
           }
          ],
          "scatterpolar": [
           {
            "marker": {
             "colorbar": {
              "outlinewidth": 0,
              "ticks": ""
             }
            },
            "type": "scatterpolar"
           }
          ],
          "scatterpolargl": [
           {
            "marker": {
             "colorbar": {
              "outlinewidth": 0,
              "ticks": ""
             }
            },
            "type": "scatterpolargl"
           }
          ],
          "scatterternary": [
           {
            "marker": {
             "colorbar": {
              "outlinewidth": 0,
              "ticks": ""
             }
            },
            "type": "scatterternary"
           }
          ],
          "surface": [
           {
            "colorbar": {
             "outlinewidth": 0,
             "ticks": ""
            },
            "colorscale": [
             [
              0,
              "#0d0887"
             ],
             [
              0.1111111111111111,
              "#46039f"
             ],
             [
              0.2222222222222222,
              "#7201a8"
             ],
             [
              0.3333333333333333,
              "#9c179e"
             ],
             [
              0.4444444444444444,
              "#bd3786"
             ],
             [
              0.5555555555555556,
              "#d8576b"
             ],
             [
              0.6666666666666666,
              "#ed7953"
             ],
             [
              0.7777777777777778,
              "#fb9f3a"
             ],
             [
              0.8888888888888888,
              "#fdca26"
             ],
             [
              1,
              "#f0f921"
             ]
            ],
            "type": "surface"
           }
          ],
          "table": [
           {
            "cells": {
             "fill": {
              "color": "#EBF0F8"
             },
             "line": {
              "color": "white"
             }
            },
            "header": {
             "fill": {
              "color": "#C8D4E3"
             },
             "line": {
              "color": "white"
             }
            },
            "type": "table"
           }
          ]
         },
         "layout": {
          "annotationdefaults": {
           "arrowcolor": "#2a3f5f",
           "arrowhead": 0,
           "arrowwidth": 1
          },
          "autotypenumbers": "strict",
          "coloraxis": {
           "colorbar": {
            "outlinewidth": 0,
            "ticks": ""
           }
          },
          "colorscale": {
           "diverging": [
            [
             0,
             "#8e0152"
            ],
            [
             0.1,
             "#c51b7d"
            ],
            [
             0.2,
             "#de77ae"
            ],
            [
             0.3,
             "#f1b6da"
            ],
            [
             0.4,
             "#fde0ef"
            ],
            [
             0.5,
             "#f7f7f7"
            ],
            [
             0.6,
             "#e6f5d0"
            ],
            [
             0.7,
             "#b8e186"
            ],
            [
             0.8,
             "#7fbc41"
            ],
            [
             0.9,
             "#4d9221"
            ],
            [
             1,
             "#276419"
            ]
           ],
           "sequential": [
            [
             0,
             "#0d0887"
            ],
            [
             0.1111111111111111,
             "#46039f"
            ],
            [
             0.2222222222222222,
             "#7201a8"
            ],
            [
             0.3333333333333333,
             "#9c179e"
            ],
            [
             0.4444444444444444,
             "#bd3786"
            ],
            [
             0.5555555555555556,
             "#d8576b"
            ],
            [
             0.6666666666666666,
             "#ed7953"
            ],
            [
             0.7777777777777778,
             "#fb9f3a"
            ],
            [
             0.8888888888888888,
             "#fdca26"
            ],
            [
             1,
             "#f0f921"
            ]
           ],
           "sequentialminus": [
            [
             0,
             "#0d0887"
            ],
            [
             0.1111111111111111,
             "#46039f"
            ],
            [
             0.2222222222222222,
             "#7201a8"
            ],
            [
             0.3333333333333333,
             "#9c179e"
            ],
            [
             0.4444444444444444,
             "#bd3786"
            ],
            [
             0.5555555555555556,
             "#d8576b"
            ],
            [
             0.6666666666666666,
             "#ed7953"
            ],
            [
             0.7777777777777778,
             "#fb9f3a"
            ],
            [
             0.8888888888888888,
             "#fdca26"
            ],
            [
             1,
             "#f0f921"
            ]
           ]
          },
          "colorway": [
           "#636efa",
           "#EF553B",
           "#00cc96",
           "#ab63fa",
           "#FFA15A",
           "#19d3f3",
           "#FF6692",
           "#B6E880",
           "#FF97FF",
           "#FECB52"
          ],
          "font": {
           "color": "#2a3f5f"
          },
          "geo": {
           "bgcolor": "white",
           "lakecolor": "white",
           "landcolor": "#E5ECF6",
           "showlakes": true,
           "showland": true,
           "subunitcolor": "white"
          },
          "hoverlabel": {
           "align": "left"
          },
          "hovermode": "closest",
          "mapbox": {
           "style": "light"
          },
          "paper_bgcolor": "white",
          "plot_bgcolor": "#E5ECF6",
          "polar": {
           "angularaxis": {
            "gridcolor": "white",
            "linecolor": "white",
            "ticks": ""
           },
           "bgcolor": "#E5ECF6",
           "radialaxis": {
            "gridcolor": "white",
            "linecolor": "white",
            "ticks": ""
           }
          },
          "scene": {
           "xaxis": {
            "backgroundcolor": "#E5ECF6",
            "gridcolor": "white",
            "gridwidth": 2,
            "linecolor": "white",
            "showbackground": true,
            "ticks": "",
            "zerolinecolor": "white"
           },
           "yaxis": {
            "backgroundcolor": "#E5ECF6",
            "gridcolor": "white",
            "gridwidth": 2,
            "linecolor": "white",
            "showbackground": true,
            "ticks": "",
            "zerolinecolor": "white"
           },
           "zaxis": {
            "backgroundcolor": "#E5ECF6",
            "gridcolor": "white",
            "gridwidth": 2,
            "linecolor": "white",
            "showbackground": true,
            "ticks": "",
            "zerolinecolor": "white"
           }
          },
          "shapedefaults": {
           "line": {
            "color": "#2a3f5f"
           }
          },
          "ternary": {
           "aaxis": {
            "gridcolor": "white",
            "linecolor": "white",
            "ticks": ""
           },
           "baxis": {
            "gridcolor": "white",
            "linecolor": "white",
            "ticks": ""
           },
           "bgcolor": "#E5ECF6",
           "caxis": {
            "gridcolor": "white",
            "linecolor": "white",
            "ticks": ""
           }
          },
          "title": {
           "x": 0.05
          },
          "xaxis": {
           "automargin": true,
           "gridcolor": "white",
           "linecolor": "white",
           "ticks": "",
           "title": {
            "standoff": 15
           },
           "zerolinecolor": "white",
           "zerolinewidth": 2
          },
          "yaxis": {
           "automargin": true,
           "gridcolor": "white",
           "linecolor": "white",
           "ticks": "",
           "title": {
            "standoff": 15
           },
           "zerolinecolor": "white",
           "zerolinewidth": 2
          }
         }
        },
        "title": {
         "text": "Correlaciones entre variables. Gráfico de calor"
        },
        "xaxis": {
         "anchor": "y",
         "constrain": "domain",
         "domain": [
          0,
          1
         ],
         "scaleanchor": "y"
        },
        "yaxis": {
         "anchor": "x",
         "autorange": "reversed",
         "constrain": "domain",
         "domain": [
          0,
          1
         ]
        }
       }
      }
     },
     "metadata": {},
     "output_type": "display_data"
    }
   ],
   "source": [
    "#correlacion variables numericas\n",
    "px.imshow(img       = df[[\"Tmed_year\",\"Tmed_min\",\"Tmed_max\", \"Precipitacion\", \"Lluvia\",\"Hum relativa\", \"Dias>30º\", \"Dias<0º\"]].corr().round(2),\n",
    "          text_auto = True,\n",
    "          title= \"Correlaciones entre variables. Gráfico de calor\")"
   ]
  },
  {
   "cell_type": "code",
   "execution_count": null,
   "metadata": {},
   "outputs": [
    {
     "name": "stderr",
     "output_type": "stream",
     "text": [
      "c:\\Users\\mary_\\anaconda3\\Lib\\site-packages\\seaborn\\axisgrid.py:118: UserWarning:\n",
      "\n",
      "The figure layout has changed to tight\n",
      "\n"
     ]
    },
    {
     "data": {
      "image/png": "[encoded data removed]",
      "text/plain": [
       "<Figure size 1218.5x1000 with 20 Axes>"
      ]
     },
     "metadata": {},
     "output_type": "display_data"
    }
   ],
   "source": [
    "# Dispersion entre  algunas variables de temperatura y de precipitacion\n",
    "sns.pairplot(df, vars= [\"Tmed_year\",\"Tmed_max\", \"Precipitacion\", \"Lluvia\"], hue= \"Provincia\")\n",
    "plt.show()"
   ]
  },
  {
   "cell_type": "code",
   "execution_count": null,
   "metadata": {},
   "outputs": [
    {
     "data": {
      "text/html": [
       "<div>\n",
       "<style scoped>\n",
       "    .dataframe tbody tr th:only-of-type {\n",
       "        vertical-align: middle;\n",
       "    }\n",
       "\n",
       "    .dataframe tbody tr th {\n",
       "        vertical-align: top;\n",
       "    }\n",
       "\n",
       "    .dataframe thead th {\n",
       "        text-align: right;\n",
       "    }\n",
       "</style>\n",
       "<table border=\"1\" class=\"dataframe\">\n",
       "  <thead>\n",
       "    <tr style=\"text-align: right;\">\n",
       "      <th></th>\n",
       "      <th>Year</th>\n",
       "      <th>Tmed_min</th>\n",
       "      <th>Tmed_year</th>\n",
       "      <th>Tmed_max</th>\n",
       "      <th>Dias&lt;0º</th>\n",
       "      <th>Dias&gt;30º</th>\n",
       "      <th>Hum relativa</th>\n",
       "      <th>Precipitacion</th>\n",
       "      <th>Lluvia</th>\n",
       "    </tr>\n",
       "  </thead>\n",
       "  <tbody>\n",
       "    <tr>\n",
       "      <th>count</th>\n",
       "      <td>405.000000</td>\n",
       "      <td>405.000000</td>\n",
       "      <td>405.000000</td>\n",
       "      <td>405.000000</td>\n",
       "      <td>405.000000</td>\n",
       "      <td>405.000000</td>\n",
       "      <td>399.000000</td>\n",
       "      <td>405.000000</td>\n",
       "      <td>405.000000</td>\n",
       "    </tr>\n",
       "    <tr>\n",
       "      <th>mean</th>\n",
       "      <td>2001.000000</td>\n",
       "      <td>11.358247</td>\n",
       "      <td>16.573407</td>\n",
       "      <td>21.755728</td>\n",
       "      <td>16.622222</td>\n",
       "      <td>50.997531</td>\n",
       "      <td>66.095313</td>\n",
       "      <td>535.235556</td>\n",
       "      <td>98.829630</td>\n",
       "    </tr>\n",
       "    <tr>\n",
       "      <th>std</th>\n",
       "      <td>13.003236</td>\n",
       "      <td>3.548266</td>\n",
       "      <td>2.590754</td>\n",
       "      <td>2.136044</td>\n",
       "      <td>24.211077</td>\n",
       "      <td>35.743067</td>\n",
       "      <td>6.882765</td>\n",
       "      <td>301.818057</td>\n",
       "      <td>44.620436</td>\n",
       "    </tr>\n",
       "    <tr>\n",
       "      <th>min</th>\n",
       "      <td>1979.000000</td>\n",
       "      <td>4.150000</td>\n",
       "      <td>11.080000</td>\n",
       "      <td>16.980000</td>\n",
       "      <td>0.000000</td>\n",
       "      <td>0.000000</td>\n",
       "      <td>38.000000</td>\n",
       "      <td>31.300000</td>\n",
       "      <td>0.000000</td>\n",
       "    </tr>\n",
       "    <tr>\n",
       "      <th>25%</th>\n",
       "      <td>1990.000000</td>\n",
       "      <td>9.570000</td>\n",
       "      <td>14.880000</td>\n",
       "      <td>20.000000</td>\n",
       "      <td>1.000000</td>\n",
       "      <td>19.000000</td>\n",
       "      <td>61.130000</td>\n",
       "      <td>338.800000</td>\n",
       "      <td>73.000000</td>\n",
       "    </tr>\n",
       "    <tr>\n",
       "      <th>50%</th>\n",
       "      <td>2001.000000</td>\n",
       "      <td>11.050000</td>\n",
       "      <td>16.280000</td>\n",
       "      <td>21.720000</td>\n",
       "      <td>8.000000</td>\n",
       "      <td>52.000000</td>\n",
       "      <td>67.580000</td>\n",
       "      <td>450.600000</td>\n",
       "      <td>92.000000</td>\n",
       "    </tr>\n",
       "    <tr>\n",
       "      <th>75%</th>\n",
       "      <td>2012.000000</td>\n",
       "      <td>12.910000</td>\n",
       "      <td>18.170000</td>\n",
       "      <td>23.280000</td>\n",
       "      <td>19.000000</td>\n",
       "      <td>73.000000</td>\n",
       "      <td>71.080000</td>\n",
       "      <td>668.300000</td>\n",
       "      <td>116.000000</td>\n",
       "    </tr>\n",
       "    <tr>\n",
       "      <th>max</th>\n",
       "      <td>2023.000000</td>\n",
       "      <td>20.560000</td>\n",
       "      <td>22.720000</td>\n",
       "      <td>27.690000</td>\n",
       "      <td>105.000000</td>\n",
       "      <td>151.000000</td>\n",
       "      <td>81.750000</td>\n",
       "      <td>1647.500000</td>\n",
       "      <td>209.000000</td>\n",
       "    </tr>\n",
       "  </tbody>\n",
       "</table>\n",
       "</div>"
      ],
      "text/plain": [
       "              Year    Tmed_min   Tmed_year    Tmed_max     Dias<0º  \\\n",
       "count   405.000000  405.000000  405.000000  405.000000  405.000000   \n",
       "mean   2001.000000   11.358247   16.573407   21.755728   16.622222   \n",
       "std      13.003236    3.548266    2.590754    2.136044   24.211077   \n",
       "min    1979.000000    4.150000   11.080000   16.980000    0.000000   \n",
       "25%    1990.000000    9.570000   14.880000   20.000000    1.000000   \n",
       "50%    2001.000000   11.050000   16.280000   21.720000    8.000000   \n",
       "75%    2012.000000   12.910000   18.170000   23.280000   19.000000   \n",
       "max    2023.000000   20.560000   22.720000   27.690000  105.000000   \n",
       "\n",
       "         Dias>30º  Hum relativa  Precipitacion      Lluvia  \n",
       "count  405.000000    399.000000     405.000000  405.000000  \n",
       "mean    50.997531     66.095313     535.235556   98.829630  \n",
       "std     35.743067      6.882765     301.818057   44.620436  \n",
       "min      0.000000     38.000000      31.300000    0.000000  \n",
       "25%     19.000000     61.130000     338.800000   73.000000  \n",
       "50%     52.000000     67.580000     450.600000   92.000000  \n",
       "75%     73.000000     71.080000     668.300000  116.000000  \n",
       "max    151.000000     81.750000    1647.500000  209.000000  "
      ]
     },
     "execution_count": 9,
     "metadata": {},
     "output_type": "execute_result"
    }
   ],
   "source": [
    "df.describe()"
   ]
  }
 ],
 "metadata": {
  "kernelspec": {
   "display_name": "base",
   "language": "python",
   "name": "python3"
  },
  "language_info": {
   "codemirror_mode": {
    "name": "ipython",
    "version": 3
   },
   "file_extension": ".py",
   "mimetype": "text/x-python",
   "name": "python",
   "nbconvert_exporter": "python",
   "pygments_lexer": "ipython3",
   "version": "3.11.5"
  }
 },
 "nbformat": 4,
 "nbformat_minor": 2
}
